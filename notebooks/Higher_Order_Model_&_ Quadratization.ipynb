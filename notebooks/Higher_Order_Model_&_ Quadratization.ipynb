{
 "cells": [
  {
   "cell_type": "markdown",
   "metadata": {},
   "source": [
    " "
   ]
  },
  {
   "cell_type": "markdown",
   "metadata": {},
   "source": [
    "<table width = \"100%\">\n",
    "  <tr style=\"background-color:white;\">\n",
    "    <!-- QWorld Logo -->\n",
    "    <td style=\"text-align:left;width:200px;\"> \n",
    "        <img src=\"../images/QWorld.png\"> </td>\n",
    "    <td style=\"text-align:right;vertical-align:bottom;font-size:16px;\"> \n",
    "        Prepared by <a href=\"https://gitlab.com/pjr1363\" target=\"_blank\"> Paul Joseph Robin </a></td>\n",
    "    </tr> \n",
    " </table>\n",
    " \n",
    "<hr>"
   ]
  },
  {
   "cell_type": "markdown",
   "metadata": {},
   "source": [
    "## Higher Order Problems"
   ]
  },
  {
   "cell_type": "markdown",
   "metadata": {},
   "source": [
    "Consider the following objective functions, where the variables are binary:\n",
    "\n",
    "> $x_1 + x_2 - x_3$\n",
    ">\n",
    "> $x_1 x_2 + x_2 x_3 - x_3 x_1 - 3$\n",
    ">\n",
    "> $x_1 x_2 x_3 + x_2 x_3 x_1 - x_3 x_1 x_2$\n",
    "\n",
    "These obejctive functions are $\\textit{linear}$, $\\textit{quadratic}$ and $\\textit{cubic}$ respectively."
   ]
  },
  {
   "cell_type": "markdown",
   "metadata": {},
   "source": [
    "When the objective function contains terms of degree higher than $2$, it is called a Higher Order Binary Optimization (HOBO) problem. Depending on the dergree $k$ of this function, they are also known as $k-local$ problems. QUBO is a $2-local$ problem.\n",
    "\n",
    "Due to the underlying architecture of the devices we work on, it is convenient to 'quadratize' higher order problems into binary problems (also known as $\\textit{degree reduction}$). This is done by introducing additional variables ($\\textit{ancillary/auxiliary variables}$), which in turn also increases the complexity."
   ]
  },
  {
   "cell_type": "markdown",
   "metadata": {},
   "source": [
    "---\n",
    "## Quadratization"
   ]
  },
  {
   "cell_type": "markdown",
   "metadata": {},
   "source": [
    "<!-- Intro --> \n",
    "There are many techniques for reducing the degree of the objective function, while keeping the number of variables under check. We will introduce the method proposed by Rosenberg in 1975, which involves repeated substitution of variables with an additional penalty term.\n",
    "\n",
    "<!-- Algo --> \n",
    "### The Algorithm\n",
    "\n",
    "1. Identify a product of two binary variables $x_i x_j$ which appears in a term with degree atleast 3.\n",
    "\n",
    "2. Replace this product with another binary variable $y_{ij}$.\n",
    "\n",
    "3. For a minimization problem, add a penalty term $C(x_i x_j − 2x_i y_{ij} − 2x_j y_{ij} + 3y_{ij} )$. For maximization problem, simply negate this term.\n",
    "\n",
    "This penalty term enforces the quadratization constraint $x_i x_j = y_{ij}$, by going to zero. The constant $C$ is appropriately chosen to ensure a large value if this condition is not met."
   ]
  },
  {
   "cell_type": "markdown",
   "metadata": {},
   "source": [
    "---\n",
    "### Task 1\n",
    "Consider the following higher order problem and reformulate as QUBO problem:\n",
    "\n",
    "(To be added)\n",
    "\n",
    "<a href=\"Higher_Order_Model_&_ Quadratization_Solutions.ipynb#Task1\">Click for the solution >></a>"
   ]
  },
  {
   "cell_type": "markdown",
   "metadata": {},
   "source": [
    "---\n",
    "## Quadratic reformulation of Max 3-SAT problem"
   ]
  },
  {
   "cell_type": "markdown",
   "metadata": {},
   "source": [
    "To be explored!"
   ]
  },
  {
   "cell_type": "markdown",
   "metadata": {},
   "source": [
    "---\n",
    "## References\n",
    "1. Efficient QUBO transformation for Higher Degree Pseudo Boolean Functions *(Amit Verma, Mark Lewis, Gary Kochenberger)* [[arXiv Preprint]](https://arxiv.org/abs/2107.11695v1)\n",
    "\n",
    "2. Unconstrained Binary Models of the Travelling Salesman Problem Variants for Quantum Optimization *(Özlem Salehi, Adam Glos, Jaroslaw Adam Miszczak)* [[arXiv Preprint]](https://arxiv.org/abs/2106.09056)\n",
    "\n",
    "3. Quadratization in Discrete Optimization and Quantum Mechanics *(Nike Dattani)* [[arXiv Preprint]](https://arxiv.org/abs/1901.04405)\n"
   ]
  },
  {
   "cell_type": "markdown",
   "metadata": {},
   "source": [
    " "
   ]
  }
 ],
 "metadata": {
  "kernelspec": {
   "display_name": "Python 3",
   "language": "python",
   "name": "python3"
  },
  "language_info": {
   "codemirror_mode": {
    "name": "ipython",
    "version": 3
   },
   "file_extension": ".py",
   "mimetype": "text/x-python",
   "name": "python",
   "nbconvert_exporter": "python",
   "pygments_lexer": "ipython3",
   "version": "3.7.6"
  }
 },
 "nbformat": 4,
 "nbformat_minor": 4
}
