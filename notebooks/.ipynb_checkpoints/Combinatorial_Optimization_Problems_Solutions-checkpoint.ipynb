{
 "cells": [
  {
   "cell_type": "markdown",
   "metadata": {},
   "source": [
    "<table width = \"100%\">\n",
    "  <tr style=\"background-color:white;\">\n",
    "    <!-- QWorld Logo -->\n",
    "    <td style=\"text-align:left;width:200px;\"> \n",
    "        <img src=\"../images/QWorld.png\"> </td>\n",
    "    <td style=\"text-align:right;vertical-align:bottom;font-size:16px;\"> \n",
    "        Prepared by <a href=\"https://gitlab.com/Sourabh499\" target=\"_blank\"> Sourabh Nutakki </a></td>\n",
    "    </tr> \n",
    " </table>\n",
    " \n",
    "<hr>"
   ]
  },
  {
   "cell_type": "markdown",
   "metadata": {},
   "source": [
    "# <font color=\"blue\">Solutions for </font> Combinatorial Optimization Problems"
   ]
  },
  {
   "cell_type": "markdown",
   "metadata": {},
   "source": [
    "<a id=\"task1\"></a>\n",
    "### Task 1\n",
    "\n",
    "Find the shortest possible that passes through each city exactly once using the naive algorithm.\n",
    "\n",
    "<img src=\"../images/tsp2.png\" width=\"250\">"
   ]
  },
  {
   "cell_type": "markdown",
   "metadata": {},
   "source": [
    "### Solution\n",
    "\n",
    "If you do not fix the first city, then you should consider all permutations of {A,B,C} and there are 3!=6 such permutations. Yet, we can fix the starting city as A and consider the two possible tours. \n",
    "\n",
    "- A$\\to$B$\\to$C$\\to$A = 11+14+14 = 39\n",
    "\n",
    "- A$\\to$C$\\to$B$\\to$A = 8+12+6 = 26\n",
    "\n",
    "We find that the optimal(shortest) route is A$\\to$C$\\to$B$\\to$A."
   ]
  },
  {
   "cell_type": "markdown",
   "metadata": {},
   "source": [
    "<a id=\"task2\"></a>\n",
    "### Task 2\n",
    "\n",
    "Use greedy coloring with the order of the vertices A, B, E, F, G, H, C, I, J, D and the colors in order Red, Blue and Green. Can you color the graph using three colors?\n",
    "\n",
    "<img src=\"../images/gc5.png\" width=\"250\">\n"
   ]
  },
  {
   "cell_type": "markdown",
   "metadata": {},
   "source": [
    "### Solution\n",
    "\n",
    "Let's start with vertex A. Assign the color red to it. Since, all the vertices adjacent to A are non-adjacent to each other, we can assign the same color, blue, to the vertices B, E and F. Vertices G and H can be assigned a previously used color, red. Vertices C, I and J are adjacent to vertices of colors, both red and blue, hence, they need to be assigned a new color, green. And finally, since the vertex D is adjacent to vertices of colors, blue and green, we assign it the color red. \n",
    "<img src=\"../images/gc6.png\" width=\"250\">\n"
   ]
  },
  {
   "cell_type": "markdown",
   "metadata": {},
   "source": [
    "<a id=\"task3\"></a>\n",
    "### Task 3\n",
    "\n",
    "Use greedy coloring with the order of the vertices A, H, I, B, E, J, G, F, C, D and the colors in order Red, Blue and Green. Can you color the graph using three colors?\n",
    "\n",
    "<img src=\"../images/gc5.png\" width=\"250\">\n"
   ]
  },
  {
   "cell_type": "markdown",
   "metadata": {},
   "source": [
    "### Solution\n",
    "\n",
    "We start by coloring verteices A, H and I with red as they are non-adjacent. Vertex B and E should be colored in blue since they are adjacent to vertices colored in red. J is adjacent to vertices colored in red and blue, hence we color it with green. Now, G is adjacent to B, I and J, which have colors blue, red and green respectively. Hence we need a new color for G. We can conclude that we can not use three colors.\n",
    "\n",
    "Let's introduce a new color orange. G gets the color orange. We can color F using blue. C gets green and D gets orange. We end up by coloring the graph using 4 colors. \n",
    "\n",
    "\n",
    "<img src=\"../images/petersen.png\" width=\"300\">\n"
   ]
  },
  {
   "cell_type": "markdown",
   "metadata": {},
   "source": [
    "<a id=\"task4\"></a>\n",
    "### Task 4 (Optional)\n",
    "\n",
    "Can you provide a lower bound on the chromatic number of a graph?"
   ]
  },
  {
   "cell_type": "markdown",
   "metadata": {},
   "source": [
    "### Solution\n",
    "\n",
    "Suppose that in a graph there are $k$ vertices which are all connected to each other. Such graph components are called $k$-cliques. A graph containing a $k$-clique requires at least $k$ colors as all the vertices in the clique should be colored using a different color. \n",
    "\n",
    "Hence, we can conclude that the size of the largest clique in a graph provides a lower bound for the chromatic number."
   ]
  },
  {
   "cell_type": "markdown",
   "metadata": {},
   "source": [
    "<a id=\"task5\"></a>\n",
    "\n",
    "### Task 5\n",
    "\n",
    "Solve the Max-Cut problem for the given graph.\n",
    "\n",
    "<img src=\"../images/bipartite_graph_2.png\" width=\"250\">"
   ]
  },
  {
   "cell_type": "markdown",
   "metadata": {},
   "source": [
    "### Solution\n",
    "In the given graph, we can assign the vertices A, B, C, E and F to set $U$, and the vertex D to the set $V$. Therefore, set $U$ = {A, B, C, E, F} and set $V$ = {D}. Since, the two sets are disjoint (i.e. they have no common vertices) and there are no edges between two vertices of the same set, we can say this graph is bipartite. Hence, the maximum cut of the given graph is equal to the number of edges present in the graph, which is 5. \n",
    "<img src=\"../images/bipartite_graph_3.png\" width=\"250\">"
   ]
  },
  {
   "cell_type": "markdown",
   "metadata": {},
   "source": [
    "<a id=\"task5\"></a>\n",
    "\n",
    "### Task 6\n",
    "In the given graph, the maximum cut is shown. Determine the number of edges in the cut.\n",
    "\n",
    "<img src=\"../images/max_cut_3.png\" width=\"250\">"
   ]
  },
  {
   "cell_type": "markdown",
   "metadata": {},
   "source": [
    "### Solution\n",
    "The edges in the cut are, \n",
    "\n",
    "- e$_{1}$ = AB\n",
    "- e$_{2}$ = BC\n",
    "- e$_{3}$ = CD\n",
    "- e$_{4}$ = BE\n",
    "- e$_{5}$ = DE\n",
    "- e$_{6}$ = DF\n",
    "- e$_{7}$ = EG\n",
    "- e$_{8}$ = FG\n",
    "\n",
    "The number of edges is determined to be 8. Hence, the maximum cut of the given graph is 8."
   ]
  }
 ],
 "metadata": {
  "kernelspec": {
   "display_name": "Python 3",
   "language": "python",
   "name": "python3"
  },
  "language_info": {
   "codemirror_mode": {
    "name": "ipython",
    "version": 3
   },
   "file_extension": ".py",
   "mimetype": "text/x-python",
   "name": "python",
   "nbconvert_exporter": "python",
   "pygments_lexer": "ipython3",
   "version": "3.7.3"
  },
  "latex_envs": {
   "LaTeX_envs_menu_present": true,
   "autoclose": true,
   "autocomplete": true,
   "bibliofile": "biblio.bib",
   "cite_by": "apalike",
   "current_citInitial": 1,
   "eqLabelWithNumbers": true,
   "eqNumInitial": 1,
   "hotkeys": {
    "equation": "Ctrl-E",
    "itemize": "Ctrl-I"
   },
   "labels_anchors": false,
   "latex_user_defs": false,
   "report_style_numbering": false,
   "user_envs_cfg": false
  },
  "toc": {
   "base_numbering": 1,
   "nav_menu": {},
   "number_sections": true,
   "sideBar": true,
   "skip_h1_title": false,
   "title_cell": "Table of Contents",
   "title_sidebar": "Contents",
   "toc_cell": false,
   "toc_position": {},
   "toc_section_display": true,
   "toc_window_display": false
  }
 },
 "nbformat": 4,
 "nbformat_minor": 2
}
