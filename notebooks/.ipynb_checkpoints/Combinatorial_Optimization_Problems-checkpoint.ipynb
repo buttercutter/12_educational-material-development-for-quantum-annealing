{
 "cells": [
  {
   "cell_type": "markdown",
   "metadata": {},
   "source": [
    "<table width = \"100%\">\n",
    "  <tr style=\"background-color:white;\">\n",
    "    <!-- QWorld Logo -->\n",
    "    <td style=\"text-align:left;width:200px;\"> \n",
    "        <img src=\"../images/QWorld.png\"> </td>\n",
    "    <td style=\"text-align:right;vertical-align:bottom;font-size:16px;\"> \n",
    "        Prepared by <a href=\"https://gitlab.com/Sourabh499\" target=\"_blank\"> Sourabh Nutakki </a></td>\n",
    "    </tr> \n",
    " </table>\n",
    " \n",
    "<hr>"
   ]
  },
  {
   "cell_type": "markdown",
   "metadata": {},
   "source": [
    "# Combinatorial Optimization Problems"
   ]
  },
  {
   "cell_type": "markdown",
   "metadata": {},
   "source": [
    "Combinatorial Optimization is concerned with finding an optimal or close to optimal solution among a finite collection of possibilities. Such problems appear in the navigation system in cars, creating timetables for high schools, decision support systems in production and logistic environments, determining the optimal way to deliver packages etc. In many such problems, note that exhaustive search is not tractable for real-world problems. Now we'll proceed with some examples of combinatorial optimization problems. "
   ]
  },
  {
   "cell_type": "markdown",
   "metadata": {},
   "source": [
    "## Travelling Salesman Problem"
   ]
  },
  {
   "cell_type": "markdown",
   "metadata": {},
   "source": [
    "Given a set of cities and distance between every pair of cities, the problem is to find the shortest possible route such that a salesman visits every city exactly once and returns to the starting point.\n",
    "\n",
    "The graph displayed below is an undirected graph and the cost of moving between two cities is the same for each direction. The graph may also be directed, in which case different costs may be assigned for each direction.\n",
    "\n",
    "<img src=\"../images/tsp1.png\" width=\"250\">\n",
    "\n",
    "A path through a graph that visits each vertex(city) exactly once is called a <b>hamiltonian path</b> or a <b>hamiltonian cycle</b> if it is a closed path. \n",
    "\n",
    "<img src=\"../images/Hamiltonian_path.svg\" width=\"250\">\n",
    "\n",
    "This problem is an NP-Hard problem. This means no efficient (polynomial-time) algorithm is known to find the optimal solution."
   ]
  },
  {
   "cell_type": "markdown",
   "metadata": {},
   "source": [
    "### Naive Algorithm (Brute-Force Method)\n",
    "\n",
    "This approach considers all possible routes to determine the shortest unique solution. Even though this approach provides the optimal solution instead of an approximate, it is not feasible to use this method for problems involving a large number of cities. \n",
    "\n",
    "Note that it is not important from which city you start your tour. The tours A-B-C-D-A and B-C-D-A-B refer to the the same tour. Hence one can fix the starting point when comparing the cost of all possible tours."
   ]
  },
  {
   "cell_type": "markdown",
   "metadata": {},
   "source": [
    "### Task 1 \n",
    "\n",
    "Find the shortest possible that passes through each city exactly once using the naive algorithm.\n",
    "\n",
    "<img src=\"../images/tsp2.png\" width=\"250\">\n",
    "\n",
    "[click for our solution](Combinatorial_Optimization_Problems_Solutions.ipynb#Task1)"
   ]
  },
  {
   "cell_type": "markdown",
   "metadata": {},
   "source": [
    "---"
   ]
  },
  {
   "cell_type": "markdown",
   "metadata": {},
   "source": [
    "## Graph Coloring Problem"
   ]
  },
  {
   "cell_type": "markdown",
   "metadata": {},
   "source": [
    "Graph Coloring is the procedure of assignment of colors to each vertex of a graph such that no adjacent vertices get the same color. The objective is to minimize the number of colors. The smallest number of colors required to color a graph is called the <b>chromatic number</b> of the graph.\n",
    "\n",
    "<img src=\"../images/gc1.png\" width=\"250\">\n",
    "\n",
    "This problem is a NP-Hard problem for general graphs. There is also a decision version of this problem which asks the question \"Can this graph be colored using $k$ colors?\", which is NP-Complete for $k\\geq 3$. "
   ]
  },
  {
   "cell_type": "markdown",
   "metadata": {},
   "source": [
    "### Greedy Approach\n",
    "\n",
    "The naive approach would be to check all color assignments one by one, by increasing the number of colors. There is a greedy approach which provides not an optimal always but an approximate solution. Initially, we put the vertices and colors in some arbitrary order. Then, we start with the first vertex and color it with the first color. We move on to the next vertex and color it with the lowest numbered color that is available e.g. no adjacent vertex is colored using the same color. We repeat this procedure until all the vertices are colored.\n",
    "\n",
    "Note that different orderings may give different results."
   ]
  },
  {
   "cell_type": "markdown",
   "metadata": {},
   "source": [
    "### Task 2\n",
    "\n",
    "Use greedy coloring with the order of the vertices A, B, E, F, G, H, C, I, J, D and the colors in order Red, Blue and Green. Can you color the graph using three colors?\n",
    "\n",
    "<img src=\"../images/gc5.png\" width=\"250\">\n",
    "\n",
    "[click for our solution](Combinatorial_Optimization_Problems_Solutions.ipynb#Task2)"
   ]
  },
  {
   "cell_type": "markdown",
   "metadata": {},
   "source": [
    "### Task 3\n",
    "\n",
    "Use greedy coloring with the order of the vertices A, H, I, B, E, J, G, F, C, D and the colors in order Red, Blue and Green. Can you color the graph using three colors?\n",
    "\n",
    "<img src=\"../images/gc5.png\" width=\"250\">\n",
    "\n",
    "[click for our solution](Combinatorial_Optimization_Problems_Solutions.ipynb#Task3)"
   ]
  },
  {
   "cell_type": "markdown",
   "metadata": {},
   "source": [
    "Task 3 shows that the greedy approach does not always yield optimal solution, as we have already seen in Task 2 that it is possible to color the given graph using only 3 colors."
   ]
  },
  {
   "cell_type": "markdown",
   "metadata": {},
   "source": [
    "### Task 4 (Optional)\n",
    "\n",
    "Can you provide a lower bound on the chromatic number of a graph?\n",
    "\n",
    "[click for our solution](Combinatorial_Optimization_Problems_Solutions.ipynb#Task4)"
   ]
  },
  {
   "cell_type": "markdown",
   "metadata": {},
   "source": [
    "---"
   ]
  },
  {
   "cell_type": "markdown",
   "metadata": {},
   "source": [
    "## Max Cut\n",
    "\n",
    "Given a graph, the aim is to partition the vertices of the graph into two disjoint sets (which is called a <b>cut</b>) such that the number of edges between the two sets is maximal. The size of the cut is defined as the number of edges between two sets. \n",
    "\n",
    "In the graph given below, the vertices colored in black and white form the two sets.\n",
    "<img src=\"../images/max__cut_1.png\" width=\"250\">\n",
    "\n",
    "The max cut problem is NP-hard in general, but for some special graphs, it can be solved efficiently."
   ]
  },
  {
   "cell_type": "markdown",
   "metadata": {},
   "source": [
    "#### A simple case\n",
    "\n",
    "A bipartite graph is a graph whose vertices can be divided into two independent sets $U$ and $V$ (there exist no edge within $U$ and $V$) such that every edge $(u, v)$ connects vertices from $U$ and $V$. Hence, in this case, since all of the adjacent vertices are in different sets, the solution to the Max-Cut problem is simply the total number of edges. \n",
    "\n",
    "<img src=\"../images/bipartite_graph_1.jpg\" width=\"250\">\n",
    "\n",
    "Deciding whether a graph is bipartite or not can be accomplished in polynomial time. Hence the solution to the Max-Cut problem in this case can be found efficiently."
   ]
  },
  {
   "cell_type": "markdown",
   "metadata": {},
   "source": [
    "### Task 5\n",
    "\n",
    "Solve the Max-Cut problem for the given graph.\n",
    "\n",
    "<img src=\"../images/bipartite_graph_2.png\" width=\"250\">\n",
    "\n",
    "[click for our solution](Combinatorial_Optimization_Problems_Solutions.ipynb#Task5)"
   ]
  },
  {
   "cell_type": "markdown",
   "metadata": {},
   "source": [
    "### Task 6 \n",
    "In the given graph, the maximum cut is shown. Determine the number of edges in the cut. \n",
    "\n",
    "<img src=\"../images/max_cut_3.png\" width=\"250\">\n",
    "\n",
    "[click for our solution](Combinatorial_Optimization_Problems_Solutions.ipynb#Task6)"
   ]
  }
 ],
 "metadata": {
  "kernelspec": {
   "display_name": "Python 3",
   "language": "python",
   "name": "python3"
  },
  "language_info": {
   "codemirror_mode": {
    "name": "ipython",
    "version": 3
   },
   "file_extension": ".py",
   "mimetype": "text/x-python",
   "name": "python",
   "nbconvert_exporter": "python",
   "pygments_lexer": "ipython3",
   "version": "3.7.3"
  },
  "latex_envs": {
   "LaTeX_envs_menu_present": true,
   "autoclose": true,
   "autocomplete": true,
   "bibliofile": "biblio.bib",
   "cite_by": "apalike",
   "current_citInitial": 1,
   "eqLabelWithNumbers": true,
   "eqNumInitial": 1,
   "hotkeys": {
    "equation": "Ctrl-E",
    "itemize": "Ctrl-I"
   },
   "labels_anchors": false,
   "latex_user_defs": false,
   "report_style_numbering": false,
   "user_envs_cfg": false
  },
  "toc": {
   "base_numbering": 1,
   "nav_menu": {},
   "number_sections": true,
   "sideBar": true,
   "skip_h1_title": false,
   "title_cell": "Table of Contents",
   "title_sidebar": "Contents",
   "toc_cell": false,
   "toc_position": {},
   "toc_section_display": true,
   "toc_window_display": false
  }
 },
 "nbformat": 4,
 "nbformat_minor": 2
}
