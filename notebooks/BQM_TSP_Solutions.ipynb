{
 "cells": [
  {
   "cell_type": "markdown",
   "id": "7607104b",
   "metadata": {},
   "source": [
    "<table width = \"100%\">\n",
    "  <tr style=\"background-color:white;\">\n",
    "    <!-- QWorld Logo -->\n",
    "    <td style=\"text-align:left;width:200px;\"> \n",
    "        <a href=\"https://qworld.net/\" target=\"_blank\"><img src=\"../images/QWorld.png\"> </a></td>\n",
    "    <td style=\"text-align:right;vertical-align:bottom;font-size:16px;\"> \n",
    "        Prepared by Özlem Salehi</td>    \n",
    "</table>\n",
    "<hr>"
   ]
  },
  {
   "cell_type": "markdown",
   "id": "f3ed0311",
   "metadata": {},
   "source": [
    "# <font color=\"blue\"> Solutions for </font> BQM for the Travelling Salesman Problem"
   ]
  },
  {
   "cell_type": "markdown",
   "id": "humanitarian-franchise",
   "metadata": {},
   "source": [
    "### Imports"
   ]
  },
  {
   "cell_type": "code",
   "execution_count": null,
   "id": "gross-munich",
   "metadata": {},
   "outputs": [],
   "source": [
    "import itertools\n",
    "from collections import defaultdict\n",
    "\n",
    "import dimod\n",
    "from dimod import BQM\n",
    "import dwave_networkx as dnx\n",
    "import matplotlib.pyplot as plt\n",
    "import networkx as nx\n",
    "import numpy as np\n",
    "from neal import SimulatedAnnealingSampler\n",
    "from dimod.reference.samplers import ExactSolver\n",
    "\n",
    "from bqm_utils import graph_viz, tsp_viz"
   ]
  },
  {
   "cell_type": "markdown",
   "id": "raising-poultry",
   "metadata": {},
   "source": [
    "<a id=\"Task1\"></a>\n",
    "\n",
    "\n",
    "### Task 1\n",
    "\n",
    "Find the optimal route for the given graph using simulated annealer and the built-in function."
   ]
  },
  {
   "cell_type": "code",
   "execution_count": null,
   "id": "sacred-salmon",
   "metadata": {},
   "outputs": [],
   "source": [
    "G = nx.Graph()\n",
    "G.add_weighted_edges_from({(0, 1, 1), (0, 2, 5), (0, 3, 2), (1, 2, 4), (1, 3, 5), (2, 3, 3)})\n",
    "graph_viz(G)"
   ]
  },
  {
   "cell_type": "markdown",
   "id": "b90bfafb",
   "metadata": {},
   "source": [
    "### Solution"
   ]
  },
  {
   "cell_type": "code",
   "execution_count": null,
   "id": "720ebc04",
   "metadata": {},
   "outputs": [],
   "source": [
    "sampler = SimulatedAnnealingSampler()\n",
    "\n",
    "path = dnx.traveling_salesperson(G, sampler, start=0)\n",
    "print(path)"
   ]
  },
  {
   "cell_type": "code",
   "execution_count": null,
   "id": "ee4ebbf5",
   "metadata": {},
   "outputs": [],
   "source": [
    "tsp_viz(G, path)"
   ]
  },
  {
   "cell_type": "markdown",
   "id": "prepared-writer",
   "metadata": {},
   "source": [
    "<a id=\"Task2\"></a>\n",
    "\n",
    "### Task 2\n",
    "\n",
    "Add the second constraint to the BQM. Let langrange multiplier = 5."
   ]
  },
  {
   "cell_type": "markdown",
   "id": "01d0656c",
   "metadata": {},
   "source": [
    "### Solution"
   ]
  },
  {
   "cell_type": "markdown",
   "id": "39a2251f",
   "metadata": {},
   "source": [
    "Let's define the graph as we have not defined it before."
   ]
  },
  {
   "cell_type": "code",
   "execution_count": null,
   "id": "593ec7a6",
   "metadata": {},
   "outputs": [],
   "source": [
    "G = nx.Graph()\n",
    "G.add_weighted_edges_from(\n",
    "    {(0, 1, 0.1), (0, 2, 0.5), (0, 3, 0.1), (1, 2, 0.1), (1, 3, 0.5), (2, 3, 0.1)}\n",
    ")"
   ]
  },
  {
   "cell_type": "markdown",
   "id": "e3851f03",
   "metadata": {},
   "source": [
    "Let's define the objective function and add the first constraint for completeness."
   ]
  },
  {
   "cell_type": "code",
   "execution_count": null,
   "id": "0c790030",
   "metadata": {},
   "outputs": [],
   "source": [
    "bqm = BQM(\"BINARY\")\n",
    "\n",
    "N = len(G.nodes)\n",
    "for i in range(N):\n",
    "    for j in range(i+1,N):\n",
    "        for t in range(N-1):\n",
    "            bqm.add_quadratic(f\"x_{i}_{t}\", f\"x_{j}_{t+1}\", G[i][j][\"weight\"])\n",
    "        \n",
    "        #Remember that we were assuming N=0 in the sum\n",
    "        bqm.add_quadratic(f\"x_{i}_{N-1}\", f\"x_{j}_{0}\", G[i][j][\"weight\"])\n",
    "l1 = 5\n",
    "for t in range(N):\n",
    "    c1 = [(f\"x_{i}_{t}\", 1) for i in range(N)] #coefficient list\n",
    "    bqm.add_linear_equality_constraint(c1, constant=-1, lagrange_multiplier=l1)"
   ]
  },
  {
   "cell_type": "markdown",
   "id": "b0f379cc",
   "metadata": {},
   "source": [
    "Now here comes the actual solution to the Task. "
   ]
  },
  {
   "cell_type": "code",
   "execution_count": null,
   "id": "9381d48d",
   "metadata": {},
   "outputs": [],
   "source": [
    "l2 = 5\n",
    "for i in range(N):\n",
    "    c2 = [(f\"x_{i}_{t}\", 1) for t in range(N)]\n",
    "    bqm.add_linear_equality_constraint(c2, constant=-1, lagrange_multiplier=l2)"
   ]
  },
  {
   "cell_type": "markdown",
   "id": "verbal-soldier",
   "metadata": {},
   "source": [
    "<a id=\"Task3\"></a>\n",
    "\n",
    "\n",
    "### Task 3\n",
    "\n",
    "Write a Python function named `is_sample_feasible` that takes as parameter a sample containing binary variables named `x_i_p` and their values and the number of cities, and returns True if the sample corresponds to a feasible path and false otherwise."
   ]
  },
  {
   "cell_type": "markdown",
   "id": "6d7aa78b",
   "metadata": {},
   "source": [
    "### Solution"
   ]
  },
  {
   "cell_type": "code",
   "execution_count": null,
   "id": "identical-float",
   "metadata": {},
   "outputs": [],
   "source": [
    "def is_sample_feasible(sample,N):\n",
    "    for i in range(N):\n",
    "        if sum(sample[f\"x_{i}_{t}\"] for t in range(N))!=1:\n",
    "            return False\n",
    "    for t in range(N):\n",
    "        if sum(sample[f\"x_{i}_{t}\"] for i in range(N))!=1:\n",
    "            return False\n",
    "    return True"
   ]
  },
  {
   "cell_type": "markdown",
   "id": "6b14682c",
   "metadata": {},
   "source": [
    "<a id=\"Task4\"></a>\n",
    "\n",
    "### Task 4\n",
    "\n",
    "Write a Python function named `sample_to_path` that takes as parameter a sample containing binary variables named `x_i_p` and their values and the number of cities, and returns a list of cities corresponding to the sample. "
   ]
  },
  {
   "cell_type": "markdown",
   "id": "28169c79",
   "metadata": {},
   "source": [
    "### Solution"
   ]
  },
  {
   "cell_type": "code",
   "execution_count": null,
   "id": "b2cb3df5",
   "metadata": {},
   "outputs": [],
   "source": [
    "def sample_to_path(sample,N):\n",
    "    path = []\n",
    "    for t in range(N):\n",
    "        for i in range(N):\n",
    "            if sample[f\"x_{i}_{t}\"] == 1:\n",
    "                path.append(i)\n",
    "    return path"
   ]
  },
  {
   "cell_type": "markdown",
   "id": "790377de",
   "metadata": {},
   "source": [
    "### Task 5\n",
    "\n",
    "Write a function named `tsp_bqm` that takes as parameter number of nodes and the penalty coefficient and returns the binary quadratic model for the travelling salesmen problem."
   ]
  },
  {
   "cell_type": "markdown",
   "id": "ee17fb48",
   "metadata": {},
   "source": [
    "### Solution"
   ]
  },
  {
   "cell_type": "code",
   "execution_count": null,
   "id": "02749973",
   "metadata": {},
   "outputs": [],
   "source": [
    "def tsp_bqm(N, P):\n",
    "    \n",
    "    bqm = BQM(\"BINARY\")\n",
    "    for i in range(N):\n",
    "        for j in range(N):\n",
    "            if i!=j:\n",
    "                for t in range(N-1):\n",
    "                    bqm.add_quadratic(f\"x_{i}_{t}\", f\"x_{j}_{t+1}\", G1[i][j][\"weight\"])\n",
    "\n",
    "                #Remember that we were assuming N=0 in the sum\n",
    "                bqm.add_quadratic(f\"x_{i}_{N-1}\", f\"x_{j}_{0}\", G1[i][j][\"weight\"])\n",
    "    #Add the first constraint\n",
    "    for t in range(N):\n",
    "        c1 = [(f\"x_{i}_{t}\", 1) for i in range(N)] #coefficient list\n",
    "        bqm.add_linear_equality_constraint(c1, constant=-1, lagrange_multiplier=P)\n",
    "    #Add the second constraint\n",
    "    for i in range(N):\n",
    "        c2 = [(f\"x_{i}_{t}\", 1) for t in range(N)]\n",
    "        bqm.add_linear_equality_constraint(c2, constant=-1, lagrange_multiplier=P)\n",
    "    return bqm"
   ]
  },
  {
   "cell_type": "markdown",
   "id": "58b555d0",
   "metadata": {},
   "source": [
    "### Task 6\n",
    "\n",
    "For the graph `G1` defined above, construct the bqm and find the optimal path.\n",
    "\n",
    "Don't forget to set the penalty coefficient to a suitable value."
   ]
  },
  {
   "cell_type": "markdown",
   "id": "09bb0eb8",
   "metadata": {},
   "source": [
    "### Solution"
   ]
  },
  {
   "cell_type": "code",
   "execution_count": null,
   "id": "03df4bad",
   "metadata": {},
   "outputs": [],
   "source": [
    "np.random.seed(45)\n",
    "G1 = nx.complete_graph(6)\n",
    "for u, v in G1.edges():\n",
    "    G1[u][v][\"weight\"] = np.random.randint(1, 5)\n",
    "N = len(G1.nodes)"
   ]
  },
  {
   "cell_type": "markdown",
   "id": "14c95aa8",
   "metadata": {},
   "source": [
    "We should set the penalty coefficient to a value larger than 4 as this is the largest number appearing in the edge cost."
   ]
  },
  {
   "cell_type": "code",
   "execution_count": null,
   "id": "58902256",
   "metadata": {},
   "outputs": [],
   "source": [
    "bqm = tsp_bqm(N, 5)"
   ]
  },
  {
   "cell_type": "code",
   "execution_count": null,
   "id": "7dd4222e",
   "metadata": {},
   "outputs": [],
   "source": [
    "sampler = SimulatedAnnealingSampler()\n",
    "sampleset = sampler.sample(bqm, num_reads=1000)"
   ]
  },
  {
   "cell_type": "code",
   "execution_count": null,
   "id": "6c8a9d47",
   "metadata": {},
   "outputs": [],
   "source": [
    "first_sample = sampleset.first.sample\n",
    "is_sample_feasible(first_sample,N)"
   ]
  },
  {
   "cell_type": "code",
   "execution_count": null,
   "id": "f1d9d6e5",
   "metadata": {},
   "outputs": [],
   "source": [
    "first_sample = sampleset.first.sample\n",
    "path = sample_to_path(first_sample,N)\n",
    "print(path)"
   ]
  },
  {
   "cell_type": "code",
   "execution_count": null,
   "id": "9952797d",
   "metadata": {},
   "outputs": [],
   "source": [
    "sampleset.first.energy"
   ]
  },
  {
   "cell_type": "code",
   "execution_count": null,
   "id": "c991afed",
   "metadata": {
    "scrolled": true
   },
   "outputs": [],
   "source": [
    "tsp_viz(G1, path)"
   ]
  }
 ],
 "metadata": {
  "kernelspec": {
   "display_name": "Python 3",
   "language": "python",
   "name": "python3"
  },
  "language_info": {
   "codemirror_mode": {
    "name": "ipython",
    "version": 3
   },
   "file_extension": ".py",
   "mimetype": "text/x-python",
   "name": "python",
   "nbconvert_exporter": "python",
   "pygments_lexer": "ipython3",
   "version": "3.7.3"
  }
 },
 "nbformat": 4,
 "nbformat_minor": 5
}
