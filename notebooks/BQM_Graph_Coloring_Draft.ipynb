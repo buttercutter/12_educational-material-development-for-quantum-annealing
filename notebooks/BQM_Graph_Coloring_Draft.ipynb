{
    "cells": [
        {
            "cell_type": "markdown",
            "id": "f0ed348e",
            "metadata": {},
            "source": [
                "<table width = \"100%\">\n",
                "  <tr style=\"background-color:white;\">\n",
                "    <!-- QWorld Logo -->\n",
                "    <td style=\"text-align:left;width:200px;\"> \n",
                "        <a href=\"https://qworld.net/\" target=\"_blank\"><img src=\"../images/QWorld.png\"> </a></td>\n",
                "    <td style=\"text-align:right;vertical-align:bottom;font-size:16px;\"> \n",
                "        Prepared by <a href=\"https://gitlab.com/AkashNarayanan\" target=\"_blank\"> AkashNarayanan B</a> and <a href=\"https://gitlab.com/pjr1363\" target=\"_blank\"> Paul Joseph Robin </a></td>    \n",
                "</table>\n",
                "<hr>"
            ]
        },
        {
            "cell_type": "markdown",
            "id": "7e4a6eaf",
            "metadata": {},
            "source": [
                "# BQM Formulation of the Graph Coloring Problem\n",
                "\n",
                "Let us briefly recall the mathematical model of the graph coloring problem. Given a graph we need to ensure each vertex is so colored that the adjacent vertices have a different color from the set of $K$ colors.\n",
                "\n",
                "## Decision Variable\n",
                "\n",
                "$\n",
                "x_{i,p} = \\begin{cases}\n",
                "  1, & \\text{if node} \\ i\\ \\text{is colored}\\ p \\\\\n",
                "  0, & \\text{otherwise}\n",
                "\\end{cases}\n",
                "$\n",
                "\n",
                "where $i$ represents the node and $p$ represents the color.\n",
                "\n",
                "\n",
                "## Constraint 1\n",
                "\n",
                "Each node is colored only once: \n",
                "\n",
                "$\n",
                "\\quad \\sum_{p=1}^{K} x_{i,p} = 1 \\;\\;\\;\\;\\;  i=1,...,N\n",
                "$\n",
                "\n",
                "Each node should be colored only once.\n",
                "\n",
                "$\n",
                "\\sum_{p=1}^{K} x_{i,p} = 1 \\quad \\forall  i=1,...,N\n",
                "$\n",
                "\n",
                "### Equivalent Penalty\n",
                "\n",
                "$\n",
                "\\quad\\quad P\\sum_{i=1}^{N} \\left(1-\\sum_{p=1}^{K}x_{i,p}\\right)^2\n",
                "$\n",
                "\n",
                "## Constraint 2\n",
                "\n",
                "Adjacent nodes are differently colored\n",
                "$\n",
                "\\quad x_{i,p} + x_{j,p} \\leq 1 \\;\\;\\;\\;\\;  p=1,...,K\n",
                "$\n",
                "\n",
                "### Equivalent Penalty\n",
                "\n",
                "$\n",
                "\\quad\\quad P\\sum_{(i,j) \\in E} \\sum_{p=1}^{K} x_{i,p}x_{j,p}\n",
                "$\n",
                "\n",
                "## QUBO\n",
                "\n",
                "Therefore, the objective function with a sufficiently large penalty $P$ is,\n",
                "$$O(x)=P\\sum_{i=1}^{N} \\left(1-\\sum_{p=1}^{K}x_{i,p}\\right)^2 + P\\sum_{(i,j) \\in E} \\sum_{p=1}^{K} x_{i,p}x_{j,p}$$"
            ]
        },
        {
            "cell_type": "markdown",
            "id": "b6ce480d",
            "metadata": {},
            "source": [
                "# Imports"
            ]
        },
        {
            "cell_type": "code",
            "execution_count": 1,
            "id": "48a3e507",
            "metadata": {},
            "outputs": [],
            "source": [
                "from collections import defaultdict\n",
                "\n",
                "import dimod\n",
                "import dwave_networkx as dnx\n",
                "import neal\n",
                "import networkx as nx\n",
                "\n",
                "import bqm_utils"
            ]
        },
        {
            "cell_type": "markdown",
            "id": "361cc0f6",
            "metadata": {},
            "source": [
                "# 3-Coloring\n",
                "\n",
                "Consider this graph with five nodes which was [introduced](QUBO_Examples_GraphColoring_Solutions#task3) in the Graph Coloring notebook. \n",
                "\n",
                "<img src=\"../images/gc_1.png\" width=\"300\">\n",
                "\n",
                "Determine a feasible coloring using $K=3$ colors. \n",
                "\n",
                "> **Hint**\n",
                "> \n",
                "> Let $p=1$: <font style=\"color:orange\">Yellow</font>, $p=2$: <font style=\"color:green\">Green</font>, and $p=3$: <font style=\"color:blue\">Blue</font>.\n",
                "> "
            ]
        },
        {
            "cell_type": "markdown",
            "id": "606988d7",
            "metadata": {},
            "source": [
                "Let us create the above graph using NetworkX and try to solve it by using the in-built function available in dwave_networkx package as well as try to solve it from scratch."
            ]
        },
        {
            "cell_type": "code",
            "execution_count": 2,
            "id": "30ccb51c",
            "metadata": {},
            "outputs": [
                {
                    "data": {
                        "image/png": "[encoded data removed]",
                        "text/plain": [
                            "<Figure size 432x288 with 1 Axes>"
                        ]
                    },
                    "metadata": {},
                    "output_type": "display_data"
                }
            ],
            "source": [
                "G = nx.Graph()\n",
                "edges = [(1, 2), (1, 5), (2, 5), (2, 4), (2, 3), (3, 4), (4, 5)]\n",
                "G.add_edges_from(edges)\n",
                "bqm_utils.graph_viz(G)"
            ]
        },
        {
            "cell_type": "markdown",
            "id": "b9dbc0fc",
            "metadata": {},
            "source": [
                "<div class=\"alert alert-block alert-warning\">\n",
                "<b>Note:</b> The networkx package is designed for analyzing graphs, rather than plotting them.\n",
                "    So even if the graph does not look the same as you intended, just ensure that the edges are connected properly.\n",
                "</div>"
            ]
        },
        {
            "cell_type": "markdown",
            "id": "41057139",
            "metadata": {},
            "source": [
                "# Data"
            ]
        },
        {
            "cell_type": "code",
            "execution_count": 3,
            "id": "ac2d5b09",
            "metadata": {},
            "outputs": [],
            "source": [
                "# colors = [0, 1, 2]\n",
                "colors = [1, 2, 3]"
            ]
        },
        {
            "cell_type": "markdown",
            "id": "f04195a9",
            "metadata": {},
            "source": [
                "# Built-in Function\n",
                "\n",
                "## `vertex_color()`"
            ]
        },
        {
            "cell_type": "code",
            "execution_count": 4,
            "id": "716b5738",
            "metadata": {},
            "outputs": [
                {
                    "name": "stdout",
                    "output_type": "stream",
                    "text": [
                        "{1: 3, 2: 1, 3: 2, 4: 3, 5: 2}\n"
                    ]
                }
            ],
            "source": [
                "sampler = neal.SimulatedAnnealingSampler()\n",
                "coloring = dnx.vertex_color(G, colors, sampler)\n",
                "print(coloring)"
            ]
        },
        {
            "cell_type": "markdown",
            "id": "d73f21bc",
            "metadata": {},
            "source": [
                "## Verification"
            ]
        },
        {
            "cell_type": "code",
            "execution_count": 5,
            "id": "5339e3f9",
            "metadata": {},
            "outputs": [
                {
                    "data": {
                        "text/plain": [
                            "True"
                        ]
                    },
                    "execution_count": 5,
                    "metadata": {},
                    "output_type": "execute_result"
                }
            ],
            "source": [
                "dnx.is_vertex_coloring(G, coloring)"
            ]
        },
        {
            "cell_type": "markdown",
            "id": "ae34dc2a",
            "metadata": {},
            "source": [
                "## Visualizing the Result"
            ]
        },
        {
            "cell_type": "code",
            "execution_count": 6,
            "id": "0e033ef8",
            "metadata": {},
            "outputs": [
                {
                    "data": {
                        "image/png": "[encoded data removed]",
                        "text/plain": [
                            "<Figure size 432x288 with 1 Axes>"
                        ]
                    },
                    "metadata": {},
                    "output_type": "display_data"
                }
            ],
            "source": [
                "bqm_utils.graph_coloring_viz(G, coloring)"
            ]
        },
        {
            "cell_type": "markdown",
            "id": "fb454ff5",
            "metadata": {},
            "source": [
                "## Task 1 (Optional)\n",
                "\n",
                "Code a function to visualize the coloring obtained from a sampler."
            ]
        },
        {
            "cell_type": "code",
            "execution_count": 7,
            "id": "e5367051",
            "metadata": {},
            "outputs": [],
            "source": [
                "def viz():\n",
                "    # Enter your code here\n",
                "    \n",
                "    \n",
                "    \n",
                "    pass"
            ]
        },
        {
            "cell_type": "markdown",
            "id": "6e152b0f",
            "metadata": {},
            "source": [
                "# Formulating BQM from Scratch"
            ]
        },
        {
            "cell_type": "markdown",
            "id": "eee695d2",
            "metadata": {},
            "source": [
                "## Step - 1: Define an empty BQM"
            ]
        },
        {
            "cell_type": "code",
            "execution_count": 8,
            "id": "63db50b6",
            "metadata": {},
            "outputs": [],
            "source": [
                "bqm = dimod.BinaryQuadraticModel('BINARY')"
            ]
        },
        {
            "cell_type": "markdown",
            "id": "b2b112b7",
            "metadata": {},
            "source": [
                "## Step - 2: Add the Constraints to the BQM\n",
                "\n",
                "### Constraint 1\n",
                "\n",
                "A node should be colored only once.\n",
                "\n",
                "$\n",
                "\\sum_{p=1}^{K} x_{i,p} = 1 \\quad \\forall  i=1,...,N\n",
                "$"
            ]
        },
        {
            "cell_type": "code",
            "execution_count": 9,
            "id": "f897ffff",
            "metadata": {
                "scrolled": true
            },
            "outputs": [],
            "source": [
                "for i in G.nodes:\n",
                "    c1 = [(f\"x_{i}_{p}\", 1) for p in colors]\n",
                "    bqm.add_linear_equality_constraint(c1, constant=-1, lagrange_multiplier=1)"
            ]
        },
        {
            "cell_type": "markdown",
            "id": "190bb4c7",
            "metadata": {},
            "source": [
                "### Constraint 2\n",
                "\n",
                "Adjacent nodes should have different colors.\n",
                "\n",
                "$\n",
                "x_{i,p} + x_{j,p} \\leq 1 \\quad \\forall  p=1,...,K\n",
                "$"
            ]
        },
        {
            "cell_type": "markdown",
            "id": "3615e76a",
            "metadata": {},
            "source": [
                "## Task 2\n",
                "\n",
                "Add the second constraint to the BQM."
            ]
        },
        {
            "cell_type": "code",
            "execution_count": 10,
            "id": "022b7686",
            "metadata": {
                "scrolled": false
            },
            "outputs": [],
            "source": [
                "## Enter your code here\n",
                "\n",
                "for p in colors:\n",
                "    for i, j in G.edges:\n",
                "        c2 = [(f\"x_{i}_{p}\", 1), (f\"x_{j}_{p}\", 1)]\n",
                "        bqm.add_linear_inequality_constraint(\n",
                "            c2, constant=-1, lagrange_multiplier=1, label=f\"c2_{i}_{j}_{p}\"\n",
                "        )"
            ]
        },
        {
            "cell_type": "markdown",
            "id": "23921f0d",
            "metadata": {},
            "source": [
                "## Step - 3: Solve the BQM using `SimulatedAnnealingSampler`"
            ]
        },
        {
            "cell_type": "code",
            "execution_count": 11,
            "id": "07285d04",
            "metadata": {},
            "outputs": [
                {
                    "name": "stdout",
                    "output_type": "stream",
                    "text": [
                        "  slack_c2_1_2_1_0 slack_c2_1_2_2_0 slack_c2_1_2_3_0 ... x_5_3 energy num_oc.\n",
                        "0                0                1                0 ...     0    0.0       1\n",
                        "1                1                0                0 ...     0    0.0       1\n",
                        "2                1                0                0 ...     0    0.0       1\n",
                        "3                0                0                1 ...     1    0.0       1\n",
                        "4                0                0                1 ...     1    0.0       1\n",
                        "5                0                0                1 ...     1    0.0       1\n",
                        "6                0                1                0 ...     0    0.0       1\n",
                        "7                1                0                0 ...     0    0.0       1\n",
                        "8                0                0                1 ...     1    0.0       1\n",
                        "9                1                0                0 ...     0    0.0       1\n",
                        "['BINARY', 10 rows, 10 samples, 36 variables]\n"
                    ]
                }
            ],
            "source": [
                "sampler = neal.SimulatedAnnealingSampler()\n",
                "sampleset = sampler.sample(bqm, num_reads=100)\n",
                "print(sampleset.truncate(10))"
            ]
        },
        {
            "cell_type": "markdown",
            "id": "aa2eb24b",
            "metadata": {},
            "source": [
                "## Step - 4: Interpret and check the feasibility of the samples in the sampleset and find the optimum sample"
            ]
        },
        {
            "cell_type": "markdown",
            "id": "41cedcbf",
            "metadata": {},
            "source": [
                "## Task 3\n",
                "\n",
                "Code a function to interpret the sample as a coloring for the graph."
            ]
        },
        {
            "cell_type": "code",
            "execution_count": 12,
            "id": "237dabeb",
            "metadata": {},
            "outputs": [],
            "source": [
                "def find_coloring():\n",
                "    # Enter your code here\n",
                "    \n",
                "    \n",
                "    \n",
                "    pass"
            ]
        },
        {
            "cell_type": "code",
            "execution_count": 13,
            "id": "3ff01b91",
            "metadata": {},
            "outputs": [],
            "source": [
                "first_sample = sampleset.first.sample"
            ]
        },
        {
            "cell_type": "code",
            "execution_count": 14,
            "id": "e36be4e9",
            "metadata": {},
            "outputs": [],
            "source": [
                "def find_coloring(G, colors, sample):\n",
                "    coloring = defaultdict(list)\n",
                "    for i in G.nodes:\n",
                "        for p in colors:\n",
                "            if sample[f\"x_{i}_{p}\"] == 1:\n",
                "                coloring[i].append(p)\n",
                "    return coloring"
            ]
        },
        {
            "cell_type": "code",
            "execution_count": 15,
            "id": "2a9424bd",
            "metadata": {},
            "outputs": [
                {
                    "data": {
                        "text/plain": [
                            "defaultdict(list, {1: [1], 2: [3], 5: [2], 4: [1], 3: [2]})"
                        ]
                    },
                    "execution_count": 15,
                    "metadata": {},
                    "output_type": "execute_result"
                }
            ],
            "source": [
                "coloring = find_coloring(G, colors, first_sample)\n",
                "coloring\n",
                "\n",
                "# print(\"Node\\tColor\")\n",
                "# print(\"----\\t-----\")\n",
                "# for node, color in coloring.items():\n",
                "#     print(f\"{node}\\t{color}\")"
            ]
        },
        {
            "cell_type": "markdown",
            "id": "41cedcbf",
            "metadata": {},
            "source": [
                "## Task 4\n",
                "\n",
                "Code a function to verify if a given coloring is a feasible coloring or not."
            ]
        },
        {
            "cell_type": "code",
            "execution_count": 16,
            "id": "237dabeb",
            "metadata": {},
            "outputs": [],
            "source": [
                "def feasible_coloring():\n",
                "    # Enter your code here\n",
                "    \n",
                "    \n",
                "    \n",
                "    pass"
            ]
        },
        {
            "cell_type": "code",
            "execution_count": 17,
            "id": "b8ed379d",
            "metadata": {},
            "outputs": [],
            "source": [
                "def feasible_coloring(G, coloring):\n",
                "    for node, color in coloring.items():\n",
                "        if len(color) != 1:\n",
                "            return False\n",
                "    \n",
                "    for i, j in G.edges():\n",
                "        if coloring[i] == coloring[j]:\n",
                "            return False        \n",
                "    return True"
            ]
        },
        {
            "cell_type": "code",
            "execution_count": 18,
            "id": "18f75a12",
            "metadata": {},
            "outputs": [],
            "source": [
                "def find_best_soln(G, colors, sampleset):\n",
                "    for sample, energy in sampleset.data(fields=[\"sample\", \"energy\"]):\n",
                "        coloring = find_coloring(G, colors, sample)\n",
                "        if feasible_coloring(G, coloring):\n",
                "            return energy, coloring"
            ]
        },
        {
            "cell_type": "code",
            "execution_count": 19,
            "id": "d45ea8b2",
            "metadata": {},
            "outputs": [
                {
                    "name": "stdout",
                    "output_type": "stream",
                    "text": [
                        "Best Solution:\n",
                        "--------------\n",
                        "Energy = 0.0\n",
                        "Coloring = {1: [1], 2: [3], 5: [2], 4: [1], 3: [2]}\n"
                    ]
                }
            ],
            "source": [
                "lowest_energy, coloring = find_best_soln(G, colors, sampleset)\n",
                "\n",
                "print(\n",
                "    f\"Best Solution:\\n\"\n",
                "    f\"--------------\\n\"\n",
                "    f\"Energy = {lowest_energy}\\n\"\n",
                "    f\"Coloring = {dict(coloring)}\"\n",
                ")"
            ]
        },
        {
            "cell_type": "markdown",
            "id": "40498749",
            "metadata": {},
            "source": [
                "## Step - 5: Visualize the Output"
            ]
        },
        {
            "cell_type": "code",
            "execution_count": 20,
            "id": "d6cd3e23",
            "metadata": {},
            "outputs": [
                {
                    "data": {
                        "image/png": "[encoded data removed]",
                        "text/plain": [
                            "<Figure size 432x288 with 1 Axes>"
                        ]
                    },
                    "metadata": {},
                    "output_type": "display_data"
                }
            ],
            "source": [
                "bqm_utils.graph_coloring_viz(G, coloring)"
            ]
        },
        {
            "cell_type": "markdown",
            "id": "f79fc055",
            "metadata": {},
            "source": [
                "# Minimum Vertex Coloring\n",
                "\n",
                "\n",
                "$\n",
                "x_{i,p} = \\begin{cases}\n",
                "  1, & \\text{if node i is colored p} \\\\\n",
                "  0, & \\text{otherwise}\n",
                "\\end{cases}\n",
                "$\n",
                "\n",
                "## Objective\n",
                "\n",
                "Minimize the number of colors used for coloring the graph.\n",
                "\n",
                "$\n",
                "\\min \\sum_{p=1}^{K} c_p\n",
                "$\n",
                "\n",
                "## Constraint 1\n",
                "\n",
                "A node should be colored only once.\n",
                "\n",
                "$\n",
                "\\sum_{p=1}^{K} x_{i,p} = 1 \\quad \\forall  i=1,...,N\n",
                "$\n",
                "\n",
                "## Constraint 2\n",
                "\n",
                "Adjacent nodes should have different colors.\n",
                "\n",
                "$\n",
                "x_{i,p} + x_{j,p} \\leq 1 \\quad \\forall  p=1,...,K\n",
                "$\n",
                "\n",
                "## Constraint 3\n",
                "\n",
                "\n",
                "$\n",
                "x_{i,p} \\leq c_p \\quad \\forall  i=1,...,N, \\forall  p=1,...,K\n",
                "$"
            ]
        },
        {
            "cell_type": "code",
            "execution_count": 21,
            "id": "b26b27ce",
            "metadata": {},
            "outputs": [
                {
                    "data": {
                        "image/png": "[encoded data removed]",
                        "text/plain": [
                            "<Figure size 432x288 with 1 Axes>"
                        ]
                    },
                    "metadata": {},
                    "output_type": "display_data"
                }
            ],
            "source": [
                "G = nx.cycle_graph(6)\n",
                "bqm_utils.graph_viz(G)"
            ]
        },
        {
            "cell_type": "markdown",
            "id": "f04195a9",
            "metadata": {},
            "source": [
                "# Built-in Function\n",
                "\n",
                "## `min_vertex_color()`"
            ]
        },
        {
            "cell_type": "code",
            "execution_count": 22,
            "id": "716b5738",
            "metadata": {},
            "outputs": [
                {
                    "name": "stdout",
                    "output_type": "stream",
                    "text": [
                        "{0: 0, 1: 1, 2: 0, 3: 1, 4: 0, 5: 1}\n"
                    ]
                }
            ],
            "source": [
                "sampler = neal.SimulatedAnnealingSampler()\n",
                "coloring = dnx.min_vertex_color(G, sampler)\n",
                "print(coloring)"
            ]
        },
        {
            "cell_type": "markdown",
            "id": "d73f21bc",
            "metadata": {},
            "source": [
                "## Verification"
            ]
        },
        {
            "cell_type": "code",
            "execution_count": 23,
            "id": "5339e3f9",
            "metadata": {},
            "outputs": [
                {
                    "data": {
                        "text/plain": [
                            "True"
                        ]
                    },
                    "execution_count": 23,
                    "metadata": {},
                    "output_type": "execute_result"
                }
            ],
            "source": [
                "dnx.is_vertex_coloring(G, coloring)"
            ]
        },
        {
            "cell_type": "markdown",
            "id": "ae34dc2a",
            "metadata": {},
            "source": [
                "## Visualizing the Result"
            ]
        },
        {
            "cell_type": "code",
            "execution_count": 24,
            "id": "0e033ef8",
            "metadata": {},
            "outputs": [
                {
                    "data": {
                        "image/png": "[encoded data removed]",
                        "text/plain": [
                            "<Figure size 432x288 with 1 Axes>"
                        ]
                    },
                    "metadata": {},
                    "output_type": "display_data"
                }
            ],
            "source": [
                "bqm_utils.graph_coloring_viz(G, coloring)"
            ]
        },
        {
            "cell_type": "markdown",
            "id": "6e152b0f",
            "metadata": {},
            "source": [
                "# Formulating BQM from Scratch"
            ]
        },
        {
            "cell_type": "code",
            "execution_count": 25,
            "id": "65dab7b8",
            "metadata": {},
            "outputs": [],
            "source": [
                "def min_vertex_coloring_bqm(G):\n",
                "    bqm = dimod.BinaryQuadraticModel(\"BINARY\")\n",
                "\n",
                "    # Objective\n",
                "    for p in colors:\n",
                "        bqm.add_linear(f\"c_{p}\", 1)\n",
                "\n",
                "    # Constraint 1\n",
                "    for i in G.nodes:\n",
                "        c1 = [(f\"x_{i}_{p}\", 1) for p in colors]\n",
                "        bqm.add_linear_equality_constraint(c1, constant=-1, lagrange_multiplier=1)\n",
                "\n",
                "    # Constraint 2\n",
                "    for p in colors:\n",
                "        for i, j in G.edges:\n",
                "            c2 = [(f\"x_{i}_{p}\", 1), (f\"x_{j}_{p}\", 1)]\n",
                "            bqm.add_linear_inequality_constraint(\n",
                "                c2, constant=-1, lagrange_multiplier=1, label=f\"c2_{i}_{j}_{p}\"\n",
                "            )\n",
                "\n",
                "    # Constraint 3\n",
                "    for i in G.nodes:\n",
                "        for p in colors:\n",
                "            c3 = [(f\"x_{i}_{p}\", 1), (f\"c_{p}\", -1)]\n",
                "            bqm.add_linear_inequality_constraint(\n",
                "                c3, constant=0, lagrange_multiplier=1, label=f\"c3_{i}_{p}\"\n",
                "            )\n",
                "\n",
                "    return bqm"
            ]
        },
        {
            "cell_type": "code",
            "execution_count": 26,
            "id": "55e44f9c",
            "metadata": {},
            "outputs": [
                {
                    "data": {
                        "text/plain": [
                            "(57, 126)"
                        ]
                    },
                    "execution_count": 26,
                    "metadata": {},
                    "output_type": "execute_result"
                }
            ],
            "source": [
                "bqm = min_vertex_coloring_bqm(G)\n",
                "bqm.shape"
            ]
        },
        {
            "cell_type": "markdown",
            "id": "23921f0d",
            "metadata": {},
            "source": [
                "## Solve the BQM using `SimulatedAnnealingSampler`"
            ]
        },
        {
            "cell_type": "code",
            "execution_count": 27,
            "id": "07285d04",
            "metadata": {},
            "outputs": [
                {
                    "name": "stdout",
                    "output_type": "stream",
                    "text": [
                        "  c_0 c_1 c_2 slack_c2_0_1_0_0 slack_c2_0_1_1_0 ... x_5_2 energy num_oc.\n",
                        "0   1   1   0                0                0 ...     0    2.0       1\n",
                        "1   1   0   1                0                1 ...     0    2.0       1\n",
                        "2   1   1   0                0                0 ...     0    2.0       1\n",
                        "3   1   0   1                0                1 ...     1    2.0       1\n",
                        "4   1   1   0                0                0 ...     0    2.0       1\n",
                        "5   1   1   0                0                0 ...     0    2.0       1\n",
                        "6   1   1   0                0                0 ...     0    2.0       1\n",
                        "7   0   1   1                1                0 ...     1    2.0       1\n",
                        "8   1   1   0                0                0 ...     0    2.0       1\n",
                        "9   1   0   1                0                1 ...     1    2.0       1\n",
                        "['BINARY', 10 rows, 10 samples, 57 variables]\n"
                    ]
                }
            ],
            "source": [
                "sampler = neal.SimulatedAnnealingSampler()\n",
                "sampleset = sampler.sample(bqm, num_reads=100)\n",
                "print(sampleset.truncate(10))"
            ]
        },
        {
            "cell_type": "code",
            "execution_count": 28,
            "id": "6de938fa",
            "metadata": {},
            "outputs": [
                {
                    "data": {
                        "text/plain": [
                            "defaultdict(list, {0: [0], 1: [1], 2: [0], 3: [1], 4: [0], 5: [1]})"
                        ]
                    },
                    "execution_count": 28,
                    "metadata": {},
                    "output_type": "execute_result"
                }
            ],
            "source": [
                "first_sample = sampleset.first.sample\n",
                "coloring = find_coloring(G, colors, first_sample)\n",
                "coloring"
            ]
        },
        {
            "cell_type": "code",
            "execution_count": 29,
            "id": "c8793bcd",
            "metadata": {},
            "outputs": [
                {
                    "data": {
                        "text/plain": [
                            "True"
                        ]
                    },
                    "execution_count": 29,
                    "metadata": {},
                    "output_type": "execute_result"
                }
            ],
            "source": [
                "feasible_coloring(G, coloring)"
            ]
        },
        {
            "cell_type": "code",
            "execution_count": 30,
            "id": "dc9f72c8",
            "metadata": {},
            "outputs": [
                {
                    "name": "stdout",
                    "output_type": "stream",
                    "text": [
                        "Best Solution:\n",
                        "--------------\n",
                        "Energy = 2.0\n",
                        "Coloring = {0: [0], 1: [1], 2: [0], 3: [1], 4: [0], 5: [1]}\n"
                    ]
                }
            ],
            "source": [
                "lowest_energy, coloring = find_best_soln(G, colors, sampleset)\n",
                "\n",
                "print(\n",
                "    f\"Best Solution:\\n\"\n",
                "    f\"--------------\\n\"\n",
                "    f\"Energy = {lowest_energy}\\n\"\n",
                "    f\"Coloring = {dict(coloring)}\"\n",
                ")"
            ]
        },
        {
            "cell_type": "code",
            "execution_count": 31,
            "id": "d6cd3e23",
            "metadata": {},
            "outputs": [
                {
                    "data": {
                        "image/png": "[encoded data removed]",
                        "text/plain": [
                            "<Figure size 432x288 with 1 Axes>"
                        ]
                    },
                    "metadata": {},
                    "output_type": "display_data"
                }
            ],
            "source": [
                "bqm_utils.graph_coloring_viz(G, coloring)"
            ]
        },
        {
            "cell_type": "markdown",
            "id": "0fad3dc6",
            "metadata": {},
            "source": [
                "# References\n",
                "\n",
                "1. F. Glover, G. Kochenberger and Y. Du. \"Quantum Bridge Analytics I: A Tutorial on Formulating and Using QUBO Models,\" [arXiv:1811.11538v6](https://arxiv.org/abs/1811.11538v6), 2019.\n",
                "\n",
                "2. [\"Graph Coloring\"](https://github.com/dwave-examples/graph-coloring),  D-Wave Systems Examples, accessed December 2021.\n",
                "\n",
                "3. [\"Map Coloring\"](https://github.com/dwave-examples/map-coloring),  D-Wave Systems Examples, accessed December 2021."
            ]
        }
    ],
    "metadata": {
        "interpreter": {
            "hash": "dc8a87a61792c4ac2acc11cc664369f408d2b18f7f59b6511835755cda2109ac"
        },
        "kernelspec": {
            "display_name": "Python 3.8.8 ('qc')",
            "language": "python",
            "name": "python3"
        },
        "language_info": {
            "codemirror_mode": {
                "name": "ipython",
                "version": 3
            },
            "file_extension": ".py",
            "mimetype": "text/x-python",
            "name": "python",
            "nbconvert_exporter": "python",
            "pygments_lexer": "ipython3",
            "version": "3.8.10"
        }
    },
    "nbformat": 4,
    "nbformat_minor": 5
}
