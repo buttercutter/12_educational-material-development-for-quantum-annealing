{
 "cells": [
  {
   "cell_type": "markdown",
   "id": "34baf83a",
   "metadata": {},
   "source": [
    "<table width = \"100%\">\n",
    "  <tr style=\"background-color:white;\">\n",
    "    <!-- QWorld Logo -->\n",
    "    <td style=\"text-align:left;width:200px;\"> \n",
    "        <a href=\"https://qworld.net/\" target=\"_blank\"><img src=\"../images/QWorld.png\"> </a></td>\n",
    "    <td style=\"text-align:right;vertical-align:bottom;font-size:16px;\"> \n",
    "        Prepared by <a href=\"https://gitlab.com/AkashNarayanan\" target=\"_blank\"> Akash Narayanan B </a></td>    \n",
    "</table>\n",
    "<hr>"
   ]
  },
  {
   "cell_type": "markdown",
   "id": "8a016373",
   "metadata": {},
   "source": [
    "# Task 1\n",
    "\n",
    "Create a QUBO instance of BQM for the following objective function\n",
    "\n",
    "$$f(x_1, x_2) = 5x_1 + 7x_1 x_2 - 3x_2$$\n",
    "\n",
    "## Solution\n",
    "\n",
    "In the objective function,\n",
    "\n",
    "- The linear part is $5x_1 - 3x_2$\n",
    "- The quadratic part is $7x_1 x_2$\n",
    "- The offset is 0"
   ]
  },
  {
   "cell_type": "code",
   "execution_count": 6,
   "id": "36bdf535",
   "metadata": {
    "ExecuteTime": {
     "end_time": "2021-08-29T15:28:59.258600Z",
     "start_time": "2021-08-29T15:28:59.253911Z"
    }
   },
   "outputs": [],
   "source": [
    "from dimod import BinaryQuadraticModel\n",
    "\n",
    "linear = {'x1': 5, 'x2': -3}\n",
    "quadratic = {('x1', 'x2'): 7}\n",
    "offset = 0\n",
    "vartype = 'BINARY'\n",
    "\n",
    "bqm_qubo = BinaryQuadraticModel(linear, quadratic, offset, vartype)"
   ]
  },
  {
   "cell_type": "markdown",
   "id": "70fa4249",
   "metadata": {},
   "source": [
    "# Task 2\n",
    "\n",
    "Create an Ising instance of BQM for the following objective function\n",
    "\n",
    "$$f(x_1, x_2, x_3, x_4) = x_1 + x_2 + x_3 + x_4 - 6x_1 x_3 - 6x_1 x_4 - 6x_3 x_4 - 6x_1 x_2 + 3$$\n",
    "\n",
    "## Solution\n",
    "\n",
    "In the objective function, \n",
    "\n",
    "- The linear part is $x_1 + x_2 + x_3 + x_4$\n",
    "- The quadratic part is $- 6x_1 x_3 - 6x_1 x_4 - 6x_3 x_4 - 6x_1 x_2$\n",
    "- The offset is 3"
   ]
  },
  {
   "cell_type": "code",
   "execution_count": 9,
   "id": "2f2b8e67",
   "metadata": {
    "ExecuteTime": {
     "end_time": "2021-08-29T15:33:35.787063Z",
     "start_time": "2021-08-29T15:33:35.780357Z"
    }
   },
   "outputs": [],
   "source": [
    "linear = {'x1': 1, 'x2': 1, 'x3': 1, 'x4': 1}\n",
    "quadratic = {('x1', 'x3'): -6, ('x1', 'x4'): -6, ('x3', 'x4'): -6, ('x1', 'x2'): -6}\n",
    "offset = 3\n",
    "vartype = 'SPIN'\n",
    "\n",
    "bqm_spin = BinaryQuadraticModel(linear, quadratic, offset, vartype)"
   ]
  },
  {
   "cell_type": "markdown",
   "id": "d39a2f0f",
   "metadata": {},
   "source": [
    "# Task 3\n",
    "\n",
    "Find the `linear`, `quadratic`, `offset` and `vartype` values of the following instance of BQM.\n",
    "\n",
    "## Solution"
   ]
  },
  {
   "cell_type": "code",
   "execution_count": 5,
   "id": "2e2c97a4",
   "metadata": {
    "ExecuteTime": {
     "end_time": "2021-08-29T15:20:04.579755Z",
     "start_time": "2021-08-29T15:20:04.571924Z"
    }
   },
   "outputs": [
    {
     "name": "stdout",
     "output_type": "stream",
     "text": [
      "Attribute Values:\n",
      "\n",
      "Linear: {x1: 3.0, x2: -1.0, x3: 10.0, x4: 7.0}\n",
      "Quadratic: {('x1', 'x2'): 2, ('x1', 'x3'): -5, ('x2', 'x3'): 3, ('x3', 'x4'): 11}\n",
      "Offset: 8\n",
      "Variable Type: Vartype.BINARY\n"
     ]
    }
   ],
   "source": [
    "%run bqm_functions.py\n",
    "\n",
    "bqm_mystery = BinaryQuadraticModel(linear, quadratic, offset, vartype)\n",
    "\n",
    "# Enter your code here\n",
    "print(\"Attribute Values:\\n\")\n",
    "\n",
    "print(f\"Linear: {bqm_mystery.linear}\")\n",
    "print(f\"Quadratic: {bqm_mystery.quadratic}\")\n",
    "print(f\"Offset: {bqm_mystery.offset}\")\n",
    "print(f\"Variable Type: {bqm_mystery.vartype}\")"
   ]
  }
 ],
 "metadata": {
  "kernelspec": {
   "display_name": "Python 3 (ipykernel)",
   "language": "python",
   "name": "python3"
  },
  "language_info": {
   "codemirror_mode": {
    "name": "ipython",
    "version": 3
   },
   "file_extension": ".py",
   "mimetype": "text/x-python",
   "name": "python",
   "nbconvert_exporter": "python",
   "pygments_lexer": "ipython3",
   "version": "3.9.5"
  },
  "latex_envs": {
   "LaTeX_envs_menu_present": true,
   "autoclose": true,
   "autocomplete": true,
   "bibliofile": "biblio.bib",
   "cite_by": "apalike",
   "current_citInitial": 1,
   "eqLabelWithNumbers": true,
   "eqNumInitial": 1,
   "hotkeys": {
    "equation": "Ctrl-E",
    "itemize": "Ctrl-I"
   },
   "labels_anchors": false,
   "latex_user_defs": false,
   "report_style_numbering": false,
   "user_envs_cfg": false
  },
  "toc": {
   "base_numbering": 1,
   "nav_menu": {},
   "number_sections": false,
   "sideBar": true,
   "skip_h1_title": false,
   "title_cell": "Table of Contents",
   "title_sidebar": "Contents",
   "toc_cell": false,
   "toc_position": {},
   "toc_section_display": true,
   "toc_window_display": false
  }
 },
 "nbformat": 4,
 "nbformat_minor": 5
}
