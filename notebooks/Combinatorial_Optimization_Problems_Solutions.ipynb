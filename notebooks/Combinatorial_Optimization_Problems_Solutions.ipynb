{
 "cells": [
  {
   "cell_type": "markdown",
   "metadata": {},
   "source": [
    "<table width = \"100%\">\n",
    "  <tr style=\"background-color:white;\">\n",
    "    <!-- QWorld Logo -->\n",
    "    <td style=\"text-align:left;width:200px;\"> \n",
    "        <img src=\"../images/QWorld.png\"> </td>\n",
    "    <td style=\"text-align:right;vertical-align:bottom;font-size:16px;\"> \n",
    "        Prepared by <a href=\"https://gitlab.com/Sourabh499\" target=\"_blank\"> Sourabh Nutakki </a></td>\n",
    "    </tr> \n",
    " </table>\n",
    " \n",
    "<hr>"
   ]
  },
  {
   "cell_type": "markdown",
   "metadata": {},
   "source": [
    "# SOLUTIONS FOR COMBINATORIAL OPTIMIZATION PROBLEMS"
   ]
  },
  {
   "cell_type": "markdown",
   "metadata": {},
   "source": [
    "### Task 4:\n",
    "Find the shortest possible route, for the given tsp table,covering all the cities and the route ending at the starting point, using the Zero Suffix Method. \n",
    "\n",
    "|   | A      | B      | C      | D      |\n",
    "|---|--------|--------|--------|--------|\n",
    "| A |$\\infty$| 46     | 16     | 40     |\n",
    "| B |   41   |$\\infty$| 50     | 40     |\n",
    "| C |   82   | 32     |$\\infty$| 60     |\n",
    "| D |   36   | 40     | 40     |$\\infty$|\n",
    "\n",
    "### Solution\n",
    "First we perform row reduction\n",
    "\n",
    "|   | A      | B      | C      | D      |\n",
    "|---|--------|--------|--------|--------|\n",
    "| A |$\\infty$| 30     | 0      | 24     |\n",
    "| B |    1   |$\\infty$| 10     |  0     |\n",
    "| C |   50   | 0      |$\\infty$| 28     |\n",
    "| D |   0    | 4      | 4      |$\\infty$|\n",
    "\n",
    "Since each row and each column contains exactly one zero, the current assignment is optimal for the problem(there's no need to perform column reduction). Therefore, the optimum route is given by, \n",
    "\n",
    "A$\\to$C, B$\\to$D, C$\\to$B, D$\\to$A\n",
    "\n",
    "$\\Rightarrow$ A$\\to$C, C$\\to$B, B$\\to$D, D$\\to$A\n",
    "\n",
    "$\\Rightarrow$ A$\\to$C$\\to$B$\\to$D$\\to$A\n",
    "\n",
    "---"
   ]
  },
  {
   "cell_type": "markdown",
   "metadata": {},
   "source": [
    "### Task 6:\n",
    "Assign colors to each vertex of the given graph and give it's chromatic number. \n",
    "\n",
    "<img src=\"../images/gc5.png\" width=\"250\">\n",
    "\n",
    "### Solution\n",
    "Let's start with vertex A. Assign the color red to it. Since, all the vertices adjacent to A are non-adjacent to each other, we can assign the same color, blue, to the vertices B, E and F. Vertices G and H can be assigned a previously used color, red. Vertices C, I and J are adjacent to vertices of colors, both red and blue, hence, they need to be assigned a new color, green. And finally, since the vertex D is adjacent to vertices of colors, blue and green, we assign it the color red. Therefore, the chromatic number is 3 and the resultant graph is,\n",
    "\n",
    "<img src=\"../images/gc6.png\" width=\"250\">\n",
    "\n",
    "---"
   ]
  },
  {
   "cell_type": "markdown",
   "metadata": {},
   "source": [
    "### Task 8: \n",
    "Cut the edges of the given graph, such that the maximum number of edges have corresponding vertices in different sets and find the max cut of it. \n",
    "\n",
    "<img src=\"../images/max_cut_4.png\" width=\"250\">\n",
    "\n",
    "### Solution\n",
    "Since, the vertices are divided among themselves into left and right sides, with almost no edges between them, we can cut the graph down the middle. Three edges to the left of the graph cannot be cut. Hence, even though the number of edges in the graph is 11, the max cut of the graph is determined to be 8. The resulting graph is, \n",
    "\n",
    "<img src=\"../images/max_cut_5.png\" width=\"250\">"
   ]
  }
 ],
 "metadata": {
  "kernelspec": {
   "display_name": "Python 3",
   "language": "python",
   "name": "python3"
  },
  "language_info": {
   "codemirror_mode": {
    "name": "ipython",
    "version": 3
   },
   "file_extension": ".py",
   "mimetype": "text/x-python",
   "name": "python",
   "nbconvert_exporter": "python",
   "pygments_lexer": "ipython3",
   "version": "3.7.4"
  }
 },
 "nbformat": 4,
 "nbformat_minor": 2
}
