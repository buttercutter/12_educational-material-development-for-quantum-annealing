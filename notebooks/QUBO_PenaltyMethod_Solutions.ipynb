{
 "cells": [
  {
   "cell_type": "markdown",
   "id": "korean-kennedy",
   "metadata": {},
   "source": [
    "<table width = \"100%\">\n",
    "  <tr style=\"background-color:white;\">\n",
    "    <!-- QWorld Logo -->\n",
    "    <td style=\"text-align:left;width:200px;\"> \n",
    "        <a href=\"https://qworld.net/\" target=\"_blank\"><img src=\"../images/QWorld.png\"> </a></td>\n",
    "    <td style=\"text-align:right;vertical-align:bottom;font-size:16px;\"> \n",
    "        Prepared by <a href=\"https://gitlab.com/sabahuddin.ahmad\" target=\"_blank\"> Sabah Ud Din Ahmad </a></td>\n",
    "    </tr> \n",
    " </table>\n",
    " \n",
    "<hr>"
   ]
  },
  {
   "cell_type": "markdown",
   "id": "handed-forty",
   "metadata": {},
   "source": [
    "# <font color=\"blue\"> Solutions for </font> QUBO Formulation with Penalty Method"
   ]
  },
  {
   "cell_type": "markdown",
   "id": "plain-russia",
   "metadata": {},
   "source": [
    "<a id=\"task1\"></a>\n",
    "### Task 1\n",
    "\n",
    "Consider the objective function $f(x) = 5x_1 + 7x_1x_2 - 3x_2$. Find $x \\in \\{0,1\\}^2$ that minimizes $f(x)$ subject to the constraint $x_1-x_2 = 0$. "
   ]
  },
  {
   "cell_type": "markdown",
   "id": "fitting-detroit",
   "metadata": {},
   "source": [
    "<h3> Solution </h3>"
   ]
  },
  {
   "cell_type": "markdown",
   "id": "following-airfare",
   "metadata": {},
   "source": [
    "Due to constraint $x_1-x_2=0$, we can only consider two cases:\n",
    "\n",
    "- $x_1 = 0$ and $x_2 = 0$\n",
    "\n",
    "    $f(0, 0) = 5(0) + 7(0)(0) - 3(0) = 0$\n",
    "\n",
    "\n",
    "- $x_1 = 1$ and $x_2 = 1$\n",
    "\n",
    "    $f(1, 1) = 5(1) + 7(1)(1) - 3(1) = 9$\n"
   ]
  },
  {
   "cell_type": "markdown",
   "id": "endangered-junior",
   "metadata": {},
   "source": [
    "Hence, we can conclude that $x_1=0$ and $x_2=0$ is the optimal solution."
   ]
  },
  {
   "cell_type": "markdown",
   "id": "interested-investigation",
   "metadata": {},
   "source": [
    "<a id=\"task2\"></a>\n",
    "### Task 2\n",
    "\n",
    "Consider a constrained problem of the form:\n",
    "$$\\min y = f(x)$$\n",
    "\n",
    "which is subjected to the constraint $x_1+ x_2 \\leq 1$ ($x_1$ & $x_2$ are binary variables). What will be the equivalent penalty for this problem? Express problem as a QUBO."
   ]
  },
  {
   "cell_type": "markdown",
   "id": "comparable-requirement",
   "metadata": {},
   "source": [
    "<h3> Solution </h3>"
   ]
  },
  {
   "cell_type": "markdown",
   "id": "constant-syria",
   "metadata": {},
   "source": [
    "From the table, the equivalent quadratic penalty is:\n",
    "\n",
    "$$P \\cdot x_1x_2$$\n",
    "\n",
    "For a sufficiently large value of $P$, the form of the unconstrained problem is:\n",
    "\n",
    "$$\\min y = f(x)+P\\cdot x_1x_2$$.\n",
    "\n",
    "Note that the solutions in which both $x_1$ and $x_2$ equal 1 will be avoided in the optimization process. If this happens, a large penalty is added to the objective function."
   ]
  },
  {
   "cell_type": "markdown",
   "id": "severe-disability",
   "metadata": {},
   "source": [
    "<a id=\"task3\"></a>\n",
    "### Task 3\n",
    "\n",
    "Consider a constrained problem of the form:\n",
    "$$\\min y = f(x)$$\n",
    "\n",
    "which is subjected to the constraint $x_1+ x_2 = 1$ ($x_1$ & $x_2$ are binary variables). What will be the equivalent penalty for this problem? Express problem as a QUBO."
   ]
  },
  {
   "cell_type": "markdown",
   "id": "written-ordinance",
   "metadata": {},
   "source": [
    "<h3> Solution </h3>"
   ]
  },
  {
   "cell_type": "markdown",
   "id": "offensive-liberal",
   "metadata": {},
   "source": [
    "From the table, the equivalent quadratic penalty is:\n",
    "\n",
    "$$P\\cdot (1-x_1-x_2+2x_1x_2)$$\n",
    "\n",
    "For a sufficiently large value of $P$, the form of the unconstrained problem is:\n",
    "\n",
    "$$\\min y = f(x)+P \\cdot (1-x_1-x_2+2x_1x_2)$$."
   ]
  },
  {
   "cell_type": "markdown",
   "id": "objective-oxygen",
   "metadata": {},
   "source": [
    "<a id=\"task4\"></a>\n",
    "### Task 4\n",
    "\n",
    "Express the constrained problem given in Task 1 as a QUBO using penalty method."
   ]
  },
  {
   "cell_type": "markdown",
   "id": "seasonal-black",
   "metadata": {},
   "source": [
    "<h3> Solution </h3>"
   ]
  },
  {
   "cell_type": "markdown",
   "id": "essential-reception",
   "metadata": {},
   "source": [
    "Using the penalty method, we obtain the following QUBO formulation:\n",
    "\n",
    "$$\\min.~ 5x_1+7x_1x_2 - 3x_2 + P\\cdot(x_1-x_2)^2.$$"
   ]
  },
  {
   "cell_type": "markdown",
   "id": "indie-decision",
   "metadata": {},
   "source": [
    "<a id=\"task5\"></a>\n",
    "### Task 5\n",
    "\n",
    "Consider the following constraint $y_1+ y_2 \\geq 10$, where $y_1$ and $y_2$ are integer variables and $0 \\leq y_1 \\leq 8$ and $0 \\leq y_2 \\leq 5$. What will be the equivalent penalty? \n",
    "\n",
    "Suppose that $f(y_1, y_2)$ is the objective function to be minimized, what will be the new objective function including the penalty? "
   ]
  },
  {
   "cell_type": "markdown",
   "id": "monetary-measure",
   "metadata": {},
   "source": [
    "<h3> Solution </h3>"
   ]
  },
  {
   "cell_type": "markdown",
   "id": "emerging-constitution",
   "metadata": {},
   "source": [
    "Let's convert the inequality to an equality by introducing a slack variable.\n",
    "\n",
    "$$y_1 + y_2 - \\eta =10$$\n",
    "\n",
    "The objective function (including the penalty term) is,\n",
    "\n",
    "$$f(y_1,y_2)+P \\cdot \\left(y_1+y_2-\\eta-10\\right)^2$$"
   ]
  },
  {
   "cell_type": "markdown",
   "id": "headed-somalia",
   "metadata": {},
   "source": [
    "Next, we will transform integer variables into binary variables. Let us recall the bounds for $\\eta$:\n",
    "\n",
    "$$0\\leq \\eta \\leq - \\left(b-\\sum_{i=1}^{k} \\min \\{a_i\\underline{\\rm y_i}, a_i\\overline{\\rm y_i}\\}\\right)$$\n",
    "where $\\underline{\\rm y_1} = 0$, $\\underline{\\rm y_2} = 0$, $\\overline{\\rm y_1}=8$, $\\overline{\\rm y_2}=5$ and $b=10$. Hence,\n",
    "\n",
    "$$0\\leq \\eta \\leq - \\left(10-\\min \\{0,8\\}+\\min \\{0,5\\}\\right)$$\n",
    "and\n",
    "$$0\\leq \\eta \\leq 10.$$"
   ]
  },
  {
   "cell_type": "markdown",
   "id": "digital-agreement",
   "metadata": {},
   "source": [
    "We will now convert the integer variables to binary variables. \n",
    "\n",
    "$$y_1 = \\sum_{j=0}^{3} 2^j x^1_j $$\n",
    "$$y_2 = \\sum_{j=0}^{2} 2^j x^2_j $$\n",
    "$$\\eta = \\sum_{j=0}^{3} 2^j x^\\eta_j $$\n",
    "\n",
    "The objective function after transformation of variables is,\n",
    "$$f(x^1_0,x^1_1,x^1_2,x^1_3,x^2_0,x^2_1,x^2_2,x^\\eta_0,x^\\eta_1,x^\\eta_2,x^\\eta_3)+P \\cdot \\left(\\sum_{j=0}^{3} 2^j x^1_j+\\sum_{j=0}^{2} 2^j x^2_j-\\sum_{j=0}^{3} 2^j x^\\eta_j-10\\right)^2$$"
   ]
  }
 ],
 "metadata": {
  "kernelspec": {
   "display_name": "Python 3",
   "language": "python",
   "name": "python3"
  },
  "language_info": {
   "codemirror_mode": {
    "name": "ipython",
    "version": 3
   },
   "file_extension": ".py",
   "mimetype": "text/x-python",
   "name": "python",
   "nbconvert_exporter": "python",
   "pygments_lexer": "ipython3",
   "version": "3.7.3"
  },
  "latex_envs": {
   "LaTeX_envs_menu_present": true,
   "autoclose": true,
   "autocomplete": true,
   "bibliofile": "biblio.bib",
   "cite_by": "apalike",
   "current_citInitial": 1,
   "eqLabelWithNumbers": true,
   "eqNumInitial": 1,
   "hotkeys": {
    "equation": "Ctrl-E",
    "itemize": "Ctrl-I"
   },
   "labels_anchors": false,
   "latex_user_defs": false,
   "report_style_numbering": false,
   "user_envs_cfg": false
  },
  "toc": {
   "base_numbering": 1,
   "nav_menu": {},
   "number_sections": true,
   "sideBar": true,
   "skip_h1_title": false,
   "title_cell": "Table of Contents",
   "title_sidebar": "Contents",
   "toc_cell": false,
   "toc_position": {},
   "toc_section_display": true,
   "toc_window_display": false
  }
 },
 "nbformat": 4,
 "nbformat_minor": 5
}
