{
 "cells": [
  {
   "cell_type": "markdown",
   "metadata": {},
   "source": [
    "<table width = \"100%\">\n",
    "  <tr style=\"background-color:white;\">\n",
    "    <!-- QWorld Logo -->\n",
    "    <td style=\"text-align:left;width:200px;\"> \n",
    "        <img src=\"../images/QWorld.png\"> </td>\n",
    "    <td style=\"text-align:right;vertical-align:bottom;font-size:16px;\"> \n",
    "        Prepared by <a href=\"https://gitlab.com/pjr1363\" target=\"_blank\"> Paul Joseph Robin </a></td>\n",
    "    </tr> \n",
    " </table>\n",
    " \n",
    "<hr>"
   ]
  },
  {
   "cell_type": "markdown",
   "metadata": {},
   "source": [
    "# Solutions for Ising Model"
   ]
  },
  {
   "cell_type": "markdown",
   "metadata": {},
   "source": [
    "<a id=\"Task1\"></a>\n",
    "### Task 1"
   ]
  },
  {
   "cell_type": "markdown",
   "metadata": {},
   "source": [
    "##### The possible scenarios are outlined here:\n",
    "| $s_1$ \t| $s_2$ \t| $s_3$ \t| $H$ \t|\n",
    "|-------\t|-------\t|-------\t|-----\t|\n",
    "| -1    \t| -1    \t| -1    \t| 144 \t|\n",
    "| -1    \t| -1    \t| 1     \t| 0   \t|\n",
    "| -1    \t| 1     \t| -1    \t| 64  \t|\n",
    "| -1    \t| 1     \t| 1     \t| 16  \t|\n",
    "| 1     \t| -1    \t| -1    \t| 16  \t|\n",
    "| 1     \t| -1    \t| 1     \t| 64  \t|\n",
    "| 1     \t| 1     \t| -1    \t| 0   \t|\n",
    "| 1     \t| 1     \t| 1     \t| 144 \t|"
   ]
  },
  {
   "cell_type": "markdown",
   "metadata": {},
   "source": [
    "The lowest energy state corresponds to $\\{-1, -1, 1\\}$ or just the complement $\\{1, 1, -1\\}$. \n",
    "\n",
    "This calculation could be automated by writing a code!"
   ]
  },
  {
   "cell_type": "markdown",
   "metadata": {},
   "source": [
    "##### Defining the objective functions:"
   ]
  },
  {
   "cell_type": "code",
   "execution_count": 1,
   "metadata": {},
   "outputs": [],
   "source": [
    "def f(s1, s2, s3):    # The objective function\n",
    "    return (4*s1 + 2*s2 + 6*s3)**2"
   ]
  },
  {
   "cell_type": "code",
   "execution_count": 2,
   "metadata": {},
   "outputs": [
    {
     "data": {
      "text/plain": [
       "[(-1, -1, -1),\n",
       " (-1, -1, 1),\n",
       " (-1, 1, -1),\n",
       " (-1, 1, 1),\n",
       " (1, -1, -1),\n",
       " (1, -1, 1),\n",
       " (1, 1, -1),\n",
       " (1, 1, 1)]"
      ]
     },
     "execution_count": 2,
     "metadata": {},
     "output_type": "execute_result"
    }
   ],
   "source": [
    "import itertools\n",
    "x = [-1, 1]\n",
    "v = [p for p in itertools.product(x, repeat=3)]\n",
    "v"
   ]
  },
  {
   "cell_type": "markdown",
   "metadata": {},
   "source": [
    " ##### Calculating value of the objective function for each set of values"
   ]
  },
  {
   "cell_type": "code",
   "execution_count": 3,
   "metadata": {},
   "outputs": [
    {
     "name": "stdout",
     "output_type": "stream",
     "text": [
      "(-1, -1, -1)  ->  144\n",
      "(-1, -1, 1)  ->  0\n",
      "(-1, 1, -1)  ->  64\n",
      "(-1, 1, 1)  ->  16\n",
      "(1, -1, -1)  ->  16\n",
      "(1, -1, 1)  ->  64\n",
      "(1, 1, -1)  ->  0\n",
      "(1, 1, 1)  ->  144\n"
     ]
    }
   ],
   "source": [
    "for i in range(len(v)):\n",
    "    s1, s2, s3 = [int(s) for s in v[i]]\n",
    "    print(\"({}, {}, {})  ->  {}\".format(s1, s2, s3, f(s1, s2, s3)) )"
   ]
  },
  {
   "cell_type": "markdown",
   "metadata": {},
   "source": [
    "---\n",
    "<a id=\"YATask\"></a>\n",
    "### Yet Another Task!"
   ]
  },
  {
   "cell_type": "code",
   "execution_count": 4,
   "metadata": {},
   "outputs": [],
   "source": [
    "import itertools\n",
    "x = [-1, 1]\n",
    "vi = [p for p in itertools.product(x, repeat=5)]    # The sample space for all possible Ising states.\n",
    "\n",
    "y = [ 0, 1]\n",
    "vq = [p for p in itertools.product(y, repeat=5)]    # The sample space for all possible QUBO states."
   ]
  },
  {
   "cell_type": "markdown",
   "metadata": {},
   "source": [
    "##### Defining the objective function"
   ]
  },
  {
   "cell_type": "code",
   "execution_count": 5,
   "metadata": {},
   "outputs": [],
   "source": [
    "def Oi(s1, s2, s3, s4, s5):    # The objective function for Ising\n",
    "    return (5 - s1*s2 - s2*s4 - s4*s5 - s5*s3 - s3*s1 - s3*s4)/2\n",
    "\n",
    "def Oq(x1, x2, x3, x4, x5):    # The objective function for QUBO\n",
    "    return (2*x1 + 2*x2 + 3*x3 + 3*x4 + 2*x5 - 2*x1*x2 - 2*x1*x3 - 2*x2*x4 - 2*x3*x4 - 2*x3*x5 - 2*x4*x5)"
   ]
  },
  {
   "cell_type": "markdown",
   "metadata": {},
   "source": [
    " ##### Calculating value of the objective function for each set of values"
   ]
  },
  {
   "cell_type": "code",
   "execution_count": 6,
   "metadata": {},
   "outputs": [
    {
     "name": "stdout",
     "output_type": "stream",
     "text": [
      "For Ising energies:\n",
      "(-1, -1, -1, -1, -1)  ->  -0.5\n",
      "(-1, -1, -1, -1, 1)  ->  1.5\n",
      "(-1, -1, -1, 1, -1)  ->  2.5\n",
      "(-1, -1, -1, 1, 1)  ->  2.5\n",
      "(-1, -1, 1, -1, -1)  ->  2.5\n",
      "(-1, -1, 1, -1, 1)  ->  2.5\n",
      "(-1, -1, 1, 1, -1)  ->  3.5\n",
      "(-1, -1, 1, 1, 1)  ->  1.5\n",
      "(-1, 1, -1, -1, -1)  ->  1.5\n",
      "(-1, 1, -1, -1, 1)  ->  3.5\n",
      "(-1, 1, -1, 1, -1)  ->  2.5\n",
      "(-1, 1, -1, 1, 1)  ->  2.5\n",
      "(-1, 1, 1, -1, -1)  ->  4.5\n",
      "(-1, 1, 1, -1, 1)  ->  4.5\n",
      "(-1, 1, 1, 1, -1)  ->  3.5\n",
      "(-1, 1, 1, 1, 1)  ->  1.5\n",
      "(1, -1, -1, -1, -1)  ->  1.5\n",
      "(1, -1, -1, -1, 1)  ->  3.5\n",
      "(1, -1, -1, 1, -1)  ->  4.5\n",
      "(1, -1, -1, 1, 1)  ->  4.5\n",
      "(1, -1, 1, -1, -1)  ->  2.5\n",
      "(1, -1, 1, -1, 1)  ->  2.5\n",
      "(1, -1, 1, 1, -1)  ->  3.5\n",
      "(1, -1, 1, 1, 1)  ->  1.5\n",
      "(1, 1, -1, -1, -1)  ->  1.5\n",
      "(1, 1, -1, -1, 1)  ->  3.5\n",
      "(1, 1, -1, 1, -1)  ->  2.5\n",
      "(1, 1, -1, 1, 1)  ->  2.5\n",
      "(1, 1, 1, -1, -1)  ->  2.5\n",
      "(1, 1, 1, -1, 1)  ->  2.5\n",
      "(1, 1, 1, 1, -1)  ->  1.5\n",
      "(1, 1, 1, 1, 1)  ->  -0.5\n"
     ]
    }
   ],
   "source": [
    "print(\"For Ising energies:\")\n",
    "for i in range(len(vi)):\n",
    "    s1, s2, s3, s4, s5 = [int(s) for s in vi[i]]\n",
    "    print(\"({}, {}, {}, {}, {})  ->  {}\".format(s1, s2, s3, s4, s5, Oi(s1, s2, s3, s4, s5)) )"
   ]
  },
  {
   "cell_type": "code",
   "execution_count": 7,
   "metadata": {},
   "outputs": [
    {
     "name": "stdout",
     "output_type": "stream",
     "text": [
      "For QUBO energies:\n",
      "(0, 0, 0, 0, 0)  ->  0\n",
      "(0, 0, 0, 0, 1)  ->  2\n",
      "(0, 0, 0, 1, 0)  ->  3\n",
      "(0, 0, 0, 1, 1)  ->  3\n",
      "(0, 0, 1, 0, 0)  ->  3\n",
      "(0, 0, 1, 0, 1)  ->  3\n",
      "(0, 0, 1, 1, 0)  ->  4\n",
      "(0, 0, 1, 1, 1)  ->  2\n",
      "(0, 1, 0, 0, 0)  ->  2\n",
      "(0, 1, 0, 0, 1)  ->  4\n",
      "(0, 1, 0, 1, 0)  ->  3\n",
      "(0, 1, 0, 1, 1)  ->  3\n",
      "(0, 1, 1, 0, 0)  ->  5\n",
      "(0, 1, 1, 0, 1)  ->  5\n",
      "(0, 1, 1, 1, 0)  ->  4\n",
      "(0, 1, 1, 1, 1)  ->  2\n",
      "(1, 0, 0, 0, 0)  ->  2\n",
      "(1, 0, 0, 0, 1)  ->  4\n",
      "(1, 0, 0, 1, 0)  ->  5\n",
      "(1, 0, 0, 1, 1)  ->  5\n",
      "(1, 0, 1, 0, 0)  ->  3\n",
      "(1, 0, 1, 0, 1)  ->  3\n",
      "(1, 0, 1, 1, 0)  ->  4\n",
      "(1, 0, 1, 1, 1)  ->  2\n",
      "(1, 1, 0, 0, 0)  ->  2\n",
      "(1, 1, 0, 0, 1)  ->  4\n",
      "(1, 1, 0, 1, 0)  ->  3\n",
      "(1, 1, 0, 1, 1)  ->  3\n",
      "(1, 1, 1, 0, 0)  ->  3\n",
      "(1, 1, 1, 0, 1)  ->  3\n",
      "(1, 1, 1, 1, 0)  ->  2\n",
      "(1, 1, 1, 1, 1)  ->  0\n"
     ]
    }
   ],
   "source": [
    "print(\"For QUBO energies:\")\n",
    "for q in range(len(vq)):\n",
    "    x1, x2, x3, x4, x5 = [int(x) for x in vq[q]]\n",
    "    print(\"({}, {}, {}, {}, {})  ->  {}\".format(x1, x2, x3, x4, x5, Oq(x1, x2, x3, x4, x5)) )"
   ]
  },
  {
   "cell_type": "markdown",
   "metadata": {},
   "source": [
    " "
   ]
  }
 ],
 "metadata": {
  "kernelspec": {
   "display_name": "Python 3",
   "language": "python",
   "name": "python3"
  },
  "language_info": {
   "codemirror_mode": {
    "name": "ipython",
    "version": 3
   },
   "file_extension": ".py",
   "mimetype": "text/x-python",
   "name": "python",
   "nbconvert_exporter": "python",
   "pygments_lexer": "ipython3",
   "version": "3.7.6"
  }
 },
 "nbformat": 4,
 "nbformat_minor": 4
}
