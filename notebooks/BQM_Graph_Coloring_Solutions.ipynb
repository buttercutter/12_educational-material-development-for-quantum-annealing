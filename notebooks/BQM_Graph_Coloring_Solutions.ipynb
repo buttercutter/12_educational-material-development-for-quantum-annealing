{
 "cells": [
  {
   "cell_type": "markdown",
   "id": "7607104b",
   "metadata": {},
   "source": [
    "<table width = \"100%\">\n",
    "  <tr style=\"background-color:white;\">\n",
    "    <!-- QWorld Logo -->\n",
    "    <td style=\"text-align:left;width:200px;\"> \n",
    "        <a href=\"https://qworld.net/\" target=\"_blank\"><img src=\"../images/QWorld.png\"> </a></td>\n",
    "    <td style=\"text-align:right;vertical-align:bottom;font-size:16px;\"> \n",
    "        Prepared by Özlem Salehi</td>    \n",
    "</table>\n",
    "<hr>"
   ]
  },
  {
   "cell_type": "markdown",
   "id": "f3ed0311",
   "metadata": {},
   "source": [
    "# <font color=\"blue\"> Solutions for </font> BQM for the Graph Coloring Problem"
   ]
  },
  {
   "cell_type": "markdown",
   "id": "71a33e0b",
   "metadata": {},
   "source": [
    "### Imports"
   ]
  },
  {
   "cell_type": "code",
   "execution_count": 1,
   "id": "287d8b48",
   "metadata": {},
   "outputs": [],
   "source": [
    "from collections import defaultdict\n",
    "\n",
    "import dimod\n",
    "from dimod import BQM\n",
    "import dwave_networkx as dnx\n",
    "from neal import SimulatedAnnealingSampler\n",
    "import networkx as nx\n",
    "\n",
    "import bqm_utils"
   ]
  },
  {
   "cell_type": "markdown",
   "id": "leading-melissa",
   "metadata": {},
   "source": [
    "<a id=\"Task1\"></a>\n",
    "### Task 1\n",
    "\n",
    "Add the first constraint to the BQM."
   ]
  },
  {
   "cell_type": "markdown",
   "id": "a4295818",
   "metadata": {},
   "source": [
    "### Solution"
   ]
  },
  {
   "cell_type": "markdown",
   "id": "42a00df7",
   "metadata": {},
   "source": [
    "For completeness, let us add the necessary code to create the graph and bqm as well."
   ]
  },
  {
   "cell_type": "code",
   "execution_count": 2,
   "id": "b3c4bdb3",
   "metadata": {},
   "outputs": [],
   "source": [
    "G = nx.Graph()\n",
    "edges = [(0, 1), (0,4), (1,2), (1,3), (1,4), (2,3), (3,4)]\n",
    "G.add_edges_from(edges)"
   ]
  },
  {
   "cell_type": "code",
   "execution_count": 3,
   "id": "c260d9cf",
   "metadata": {},
   "outputs": [],
   "source": [
    "bqm = BQM('BINARY')"
   ]
  },
  {
   "cell_type": "markdown",
   "id": "908e50e3",
   "metadata": {},
   "source": [
    "Here is the code to add the first constraint. "
   ]
  },
  {
   "cell_type": "code",
   "execution_count": 4,
   "id": "beginning-tract",
   "metadata": {
    "scrolled": true
   },
   "outputs": [],
   "source": [
    "N = len(G.nodes)\n",
    "colors = [0,1,2]\n",
    "for i in range(N):\n",
    "    c1 = [(f\"x_{i}_{c}\", 1) for c in colors]\n",
    "    bqm.add_linear_equality_constraint(c1, constant=-1, lagrange_multiplier=1)"
   ]
  },
  {
   "cell_type": "markdown",
   "id": "5e0b6217",
   "metadata": {},
   "source": [
    "<a id=\"Task2\"></a>\n",
    "### Task 2\n",
    "\n",
    "Write a Python function named `is_sample_feasible` that takes as parameter a sample containing binary variables named `x_i_c` and their values, the list of colors, the list of edges, and the number of nodes and returns True if the sample corresponds to a feasible coloring and false otherwise."
   ]
  },
  {
   "cell_type": "markdown",
   "id": "6f7e5ea1",
   "metadata": {},
   "source": [
    "### Solution"
   ]
  },
  {
   "cell_type": "code",
   "execution_count": 5,
   "id": "2bdcccdf",
   "metadata": {},
   "outputs": [],
   "source": [
    "def is_sample_feasible(sample, colors, edges, N):\n",
    "    for i, j in edges():\n",
    "        for c in colors:\n",
    "            if sample[f\"x_{i}_{c}\"] == 1 and sample[f\"x_{j}_{c}\"] == 1:\n",
    "                return False        \n",
    "    for i in range(N):\n",
    "        if sum(sample[f\"x_{i}_{c}\"] for c in colors) != 1:\n",
    "            return False\n",
    "    return True"
   ]
  },
  {
   "cell_type": "markdown",
   "id": "recent-nevada",
   "metadata": {},
   "source": [
    "<a id=\"Task3\"></a>\n",
    "### Task 3\n",
    "\n",
    "Write a function named `sample_to_coloring` that takes as parameter a sample containing binary variables named `x_i_c` and their values, the list of colors and the number of vertices, and returns a dictionary where the keys are the nodes and the values are the colors."
   ]
  },
  {
   "cell_type": "markdown",
   "id": "1d33db0c",
   "metadata": {},
   "source": [
    "### Solution"
   ]
  },
  {
   "cell_type": "code",
   "execution_count": 6,
   "id": "7c7c7a71",
   "metadata": {},
   "outputs": [],
   "source": [
    "def sample_to_coloring(sample, colors, N):\n",
    "    coloring = {}\n",
    "    for i in range(N):\n",
    "        for c in colors:\n",
    "            if sample[f\"x_{i}_{c}\"] == 1:\n",
    "                coloring[i]=c\n",
    "    return coloring"
   ]
  },
  {
   "cell_type": "markdown",
   "id": "3c94baec",
   "metadata": {},
   "source": [
    "<a id=\"Task4\"></a>\n",
    "### Task 4\n",
    "\n",
    "Create a function named `graph_coloring_bqm` that takes as input the list of colors, the list of edges, number of vertices and returns the binary quadratic model. \n"
   ]
  },
  {
   "cell_type": "markdown",
   "id": "b20bd22e",
   "metadata": {},
   "source": [
    "### Solution"
   ]
  },
  {
   "cell_type": "code",
   "execution_count": 8,
   "id": "7549956c",
   "metadata": {},
   "outputs": [],
   "source": [
    "def graph_coloring_bqm(colors, edges, N):\n",
    "    bqm = BQM('BINARY')\n",
    "    for i in range(N):\n",
    "        c1 = [(f\"x_{i}_{c}\", 1) for c in colors]\n",
    "        bqm.add_linear_equality_constraint(c1, constant=-1, lagrange_multiplier=1)\n",
    "    for c in colors:\n",
    "        for i, j in edges:\n",
    "            c2 = [(f\"x_{i}_{c}\", 1), (f\"x_{j}_{c}\", 1)]\n",
    "            bqm.add_linear_inequality_constraint(\n",
    "                c2, lagrange_multiplier=1, ub=1, label=f\"c2_{i}_{j}_{c}\"\n",
    "            )\n",
    "    return bqm"
   ]
  },
  {
   "cell_type": "markdown",
   "id": "eb4c8935",
   "metadata": {},
   "source": [
    "<a id=\"Task5\"></a>\n",
    "### Task 5\n",
    "\n",
    "Using the function you have created in Task 4, try coloring the same graph using two colors only and interpret the result.\n"
   ]
  },
  {
   "cell_type": "markdown",
   "id": "e5f48abe",
   "metadata": {},
   "source": [
    "### Solution"
   ]
  },
  {
   "cell_type": "code",
   "execution_count": 9,
   "id": "5a955f3d",
   "metadata": {},
   "outputs": [],
   "source": [
    "edges = [(0, 1), (0,4), (1,2), (1,3), (1,4), (2,3), (3,4)]\n",
    "G = nx.Graph()\n",
    "G.add_edges_from(edges)\n",
    "\n",
    "#Create list of colors\n",
    "colors = [0,1]\n",
    "\n",
    "#Create bqm\n",
    "N = len(G.nodes)\n",
    "bqm = graph_coloring_bqm(colors, edges,N)\n",
    "\n",
    "#Solve BQM\n",
    "sampler = SimulatedAnnealingSampler()\n",
    "sampleset = sampler.sample(bqm, num_reads=100)"
   ]
  },
  {
   "cell_type": "code",
   "execution_count": 10,
   "id": "3c1f2ecf",
   "metadata": {},
   "outputs": [
    {
     "data": {
      "text/plain": [
       "False"
      ]
     },
     "execution_count": 10,
     "metadata": {},
     "output_type": "execute_result"
    }
   ],
   "source": [
    "#Check feasbility of the first sample\n",
    "first_sample = sampleset.first.sample\n",
    "is_sample_feasible(first_sample,colors,G.edges, N)"
   ]
  },
  {
   "cell_type": "markdown",
   "id": "fd4b4f1f",
   "metadata": {},
   "source": [
    "We see that the first sample is not feasible. We can check if any feasible sample exists using the `best_solution function.`"
   ]
  },
  {
   "cell_type": "code",
   "execution_count": 11,
   "id": "409b4cff",
   "metadata": {},
   "outputs": [],
   "source": [
    "def best_solution(sampleset, colors, edges, N):\n",
    "    for sample, energy in sampleset.data(fields=[\"sample\", \"energy\"]):\n",
    "        if is_sample_feasible(sample,colors,edges, N):\n",
    "            return sample, energy\n",
    "    return None, None"
   ]
  },
  {
   "cell_type": "code",
   "execution_count": 12,
   "id": "672d3c04",
   "metadata": {},
   "outputs": [
    {
     "name": "stdout",
     "output_type": "stream",
     "text": [
      "None\n"
     ]
    }
   ],
   "source": [
    "sample, energy = best_solution(sampleset, colors, G.edges, N)\n",
    "print(sample)"
   ]
  },
  {
   "cell_type": "markdown",
   "id": "2bd5621b",
   "metadata": {},
   "source": [
    "We see that no feasible solution exists.\n",
    "\n",
    "Let us print the coloring corresponding to the first sample."
   ]
  },
  {
   "cell_type": "code",
   "execution_count": 13,
   "id": "7f356bbb",
   "metadata": {},
   "outputs": [
    {
     "name": "stdout",
     "output_type": "stream",
     "text": [
      "{0: 0, 2: 1, 3: 0, 4: 1}\n"
     ]
    }
   ],
   "source": [
    "coloring = sample_to_coloring(first_sample, colors, N)\n",
    "print(coloring)"
   ]
  },
  {
   "cell_type": "markdown",
   "id": "09f707c5",
   "metadata": {},
   "source": [
    "We observe that one of the nodes is not colored. We can go further and visualize the result."
   ]
  },
  {
   "cell_type": "code",
   "execution_count": 14,
   "id": "94c52e92",
   "metadata": {},
   "outputs": [
    {
     "data": {
      "image/png": "[encoded data removed]",
      "text/plain": [
       "<Figure size 432x288 with 1 Axes>"
      ]
     },
     "metadata": {},
     "output_type": "display_data"
    }
   ],
   "source": [
    "bqm_utils.graph_coloring_viz(G, coloring)"
   ]
  },
  {
   "cell_type": "markdown",
   "id": "800062a1",
   "metadata": {},
   "source": [
    "<a id=\"Task6\"></a>\n",
    "### Task 6\n",
    "\n",
    "For the Petersen graph displayed below, determine the minimum number of colors needed to properly color the graph.\n",
    "\n",
    "Hint: Starting with 2 colors, increase the number of colors you use inside a loop until a feasible coloring is found."
   ]
  },
  {
   "cell_type": "markdown",
   "id": "bfafb5bf",
   "metadata": {},
   "source": [
    "### Solution"
   ]
  },
  {
   "cell_type": "code",
   "execution_count": 15,
   "id": "ba13a625",
   "metadata": {},
   "outputs": [
    {
     "data": {
      "image/png": "[encoded data removed]",
      "text/plain": [
       "<Figure size 432x288 with 1 Axes>"
      ]
     },
     "metadata": {},
     "output_type": "display_data"
    }
   ],
   "source": [
    "Gp = nx.petersen_graph()\n",
    "bqm_utils.graph_viz(Gp)"
   ]
  },
  {
   "cell_type": "code",
   "execution_count": 20,
   "id": "04329d71",
   "metadata": {},
   "outputs": [
    {
     "name": "stdout",
     "output_type": "stream",
     "text": [
      "{0: 2, 1: 1, 2: 2, 3: 1, 4: 0, 5: 1, 6: 2, 7: 0, 8: 0, 9: 1}\n",
      "3  colors are used\n"
     ]
    },
    {
     "data": {
      "image/png": "[encoded data removed]",
      "text/plain": [
       "<Figure size 432x288 with 1 Axes>"
      ]
     },
     "metadata": {},
     "output_type": "display_data"
    }
   ],
   "source": [
    "sampler = SimulatedAnnealingSampler()\n",
    "edges = Gp.edges\n",
    "N = len(Gp.nodes)\n",
    "for k in list(range(2,10)):\n",
    "    colors = list(range(k))\n",
    "    bqm = graph_coloring_bqm(colors, edges, N)    \n",
    "    sampleset = sampler.sample(bqm, num_reads=100)\n",
    "    first_sample = sampleset.first.sample\n",
    "    if is_sample_feasible(first_sample, colors, edges, N):\n",
    "        break\n",
    "coloring = sample_to_coloring(first_sample, colors, N)\n",
    "print(coloring)\n",
    "print(k, \" colors are used\")\n",
    "bqm_utils.graph_coloring_viz(Gp, coloring)"
   ]
  }
 ],
 "metadata": {
  "kernelspec": {
   "display_name": "Python 3",
   "language": "python",
   "name": "python3"
  },
  "language_info": {
   "codemirror_mode": {
    "name": "ipython",
    "version": 3
   },
   "file_extension": ".py",
   "mimetype": "text/x-python",
   "name": "python",
   "nbconvert_exporter": "python",
   "pygments_lexer": "ipython3",
   "version": "3.7.3"
  }
 },
 "nbformat": 4,
 "nbformat_minor": 5
}
