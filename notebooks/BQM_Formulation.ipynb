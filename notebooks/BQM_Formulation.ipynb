{
 "cells": [
  {
   "cell_type": "markdown",
   "id": "165744e0",
   "metadata": {},
   "source": [
    "<table width = \"100%\">\n",
    "  <tr style=\"background-color:white;\">\n",
    "    <!-- QWorld Logo -->\n",
    "    <td style=\"text-align:left;width:200px;\"> \n",
    "        <a href=\"https://qworld.net/\" target=\"_blank\"><img src=\"../images/QWorld.png\"> </a></td>\n",
    "    <td style=\"text-align:right;vertical-align:bottom;font-size:16px;\"> \n",
    "        Prepared by <a href=\"https://gitlab.com/AkashNarayanan\" target=\"_blank\"> Akash Narayanan B</a></td>    \n",
    "</table>\n",
    "<hr>"
   ]
  },
  {
   "cell_type": "markdown",
   "id": "8b3e5d3f",
   "metadata": {},
   "source": [
    "So far, we have learnt about formulating combinatorial optimization problems as QUBO or Ising Model objective functions. We have also learnt how to convert between these two formulations. Our aim is to take advantage of Quantum Computers to solve these problems. To do so, we have to formulate our QUBO or Ising Model problems in a way that they can be run on a Quantum Computer.\n",
    "\n",
    "The [Ocean SDK](https://github.com/dwavesystems/dwave-ocean-sdk) provides us many open-source tools to aid us in the problem solving process. Now let's take a look at the `BinaryQuadraticModel` class available in the `dimod` package of the Ocean SDK."
   ]
  },
  {
   "cell_type": "markdown",
   "id": "7f62bbdf",
   "metadata": {},
   "source": [
    "# Binary Quadratic Model (BQM)\n",
    "\n",
    "`BinaryQuadraticModel` class helps us to encode our QUBO or Ising Model problems into a form suitable to be run on a Quantum Computer. Let us quickly recall the objective functions of QUBO and Ising Model.\n",
    "\n",
    "The objective function of a QUBO is,\n",
    "\n",
    "$$f(x) = \\sum\\limits_{i}^{N} {Q_{i, i} x_i} + \\sum\\limits_{i < j}^{N} {Q_{i, j} x_i x_j} \\qquad\\qquad x_i\\in \\{0,1\\}$$\n",
    "\n",
    "where the binary variables can take the values 0 and 1.\n",
    "\n",
    "The objective function of an Ising Model is,\n",
    "\n",
    "$$E(s) = \\sum\\limits_{i=1}^N h_i s_i + \\sum\\limits_{i<j}^N J_{i,j} s_i s_j   \\qquad\\qquad s_i \\in\\{-1,+1\\}$$\n",
    "\n",
    "where the binary variables can take the values -1 and +1 corresponding to the physical Ising spins.\n",
    "\n",
    "The objective function of a Binary Quadratic Model is,\n",
    "\n",
    "$$E(v) = \\sum\\limits_{i=1} a_i v_i + \\sum\\limits_{i<j} b_{i,j} v_i v_j + c \\qquad\\qquad v_i \\in \\{0,1\\} \\text{  or } \\{-1,+1\\}$$\n",
    "\n",
    "We can notice that the binary variable $v_i$ can correspond either to $\\{0, 1\\}$ or to the physical Ising spins $\\{-1, +1\\}$. This way BQM can conveniently represent both a QUBO and an Ising Model."
   ]
  },
  {
   "cell_type": "markdown",
   "id": "e48efd98",
   "metadata": {},
   "source": [
    "# Creating an Instance of BQM\n",
    "\n",
    "Let's first take a look at some of the essential parameters required to create an instance of the `BinaryQuadraticModel` class.\n",
    "\n",
    "## Parameters\n",
    "\n",
    "- `linear` \n",
    "   - The linear coefficients of the objective function should be defined as a dictionary.\n",
    "   - The keys of the dictionary are the variables and their respective values are the linear coefficients associated with these variables. For example,\n",
    "\n",
    "    ```python\n",
    "    {'x1': 3, 'x2': 5, 'x3': 4, 'x4': 7}\n",
    "    ```\n",
    "    \n",
    "- `quadratic`\n",
    "   - The quadratic coefficients of the objective function should be defined as a dictionary.\n",
    "   - The keys of the dictionary are the pairs of variables defined as tuples and their respective values are the quadratic coefficients associated with these pairs of variables. For example,\n",
    "\n",
    "    ```python\n",
    "    {('x1', 'x2'): 2, ('x2', 'x3'): 5}\n",
    "    ```\n",
    "                   \n",
    "- `offset`\n",
    "    - Constant energy offset value associated with the BQM can be set using this parameter. \n",
    "    - If there is no offset, it can be just set to `0`.\n",
    "    \n",
    "- `Vartype`\n",
    "    - This parameter sets the variable type of the BQM. To create a QUBO instance, set this parameter as `'BINARY'`.\n",
    "    - To create an Ising Model instance, set this parameter as `'SPIN'`.\n",
    "    \n",
    "## Example\n",
    "\n",
    "Let us now try to create a BQM instance of the following objective function,\n",
    "\n",
    "$$f(x_1, x_2, x_3, x_4) = - 5x_1 - 3x_2 - 8x_3 - 6x_4 + 4x_1 x_2 + 8x_1 x_3 + 2x_2 x_3 + 10x_3 x_4$$\n",
    "\n",
    "We should define the linear and quadratic parts of the objective function as dictionaries and pass it as `linear` and `quadratic` parameters. In the objective function,\n",
    "\n",
    "- The linear part is $- 5x_1 - 3x_2 - 8x_3 - 6x_4$. The corresponding dictionary can be defined as \n",
    "\n",
    "```python\n",
    "{'x1': -5, 'x2': -3, 'x3': -8, 'x4': -6}\n",
    "```\n",
    "                       \n",
    "- The quadratic part is $4x_1 x_2 + 8x_1 x_3 + 2x_2 x_3 + 10x_3 x_4$. The corresponding dictionary can be defined as\n",
    "\n",
    "```python\n",
    "{('x1', 'x2'): 4, ('x1', 'x3'): 8, ('x2', 'x3'): 2, ('x3', 'x4'): 10}\n",
    "```  \n",
    "- There is no offset, so we can set the `offset` parameter to `0`.\n",
    "\n",
    "We can create a QUBO instance of BQM by setting the `Vartype` parameter to `'BINARY'`."
   ]
  },
  {
   "cell_type": "code",
   "execution_count": 4,
   "id": "93048763",
   "metadata": {
    "ExecuteTime": {
     "end_time": "2021-08-29T14:35:51.179363Z",
     "start_time": "2021-08-29T14:35:51.174373Z"
    }
   },
   "outputs": [],
   "source": [
    "from dimod import BinaryQuadraticModel\n",
    "\n",
    "linear = {'x1': -5, 'x2': -3, 'x3': -8, 'x4': -6}\n",
    "quadratic = {('x1', 'x2'): 4, ('x1', 'x3'): 8, ('x2', 'x3'): 2, ('x3', 'x4'): 10}\n",
    "offset = 0\n",
    "vartype = 'BINARY'\n",
    "\n",
    "bqm_qubo = BinaryQuadraticModel(linear, quadratic, offset, vartype)"
   ]
  },
  {
   "cell_type": "markdown",
   "id": "241151dc",
   "metadata": {},
   "source": [
    "We can create an Ising instance of BQM for the same objective function by setting the `Vartype` parameter to `'SPIN'`."
   ]
  },
  {
   "cell_type": "code",
   "execution_count": 3,
   "id": "5dff6a1e",
   "metadata": {
    "ExecuteTime": {
     "end_time": "2021-08-29T14:30:20.990094Z",
     "start_time": "2021-08-29T14:30:20.987003Z"
    }
   },
   "outputs": [],
   "source": [
    "vartype = 'SPIN'\n",
    "\n",
    "bqm_ising = BinaryQuadraticModel(linear, quadratic, offset, vartype)"
   ]
  },
  {
   "cell_type": "markdown",
   "id": "d2590ecd",
   "metadata": {},
   "source": [
    "## Attributes\n",
    "\n",
    "We can check the values assigned to the parameters using the attributes of the BQM class.\n",
    "\n",
    "```python\n",
    ">>> bqm_qubo.linear\n",
    "{'x1': -5.0, 'x2': -3.0, 'x3': -8.0, 'x4': -6.0}\n",
    "\n",
    ">>> bqm_qubo.quadratic\n",
    "{('x1', 'x2'): 4, ('x1', 'x3'): 8, ('x2', 'x3'): 2, ('x3', 'x4'): 10}\n",
    "\n",
    ">>> bqm_qubo.offset\n",
    "0\n",
    "\n",
    ">>> bqm_qubo.vartype\n",
    "<Vartype.BINARY: frozenset({0, 1})>\n",
    "\n",
    ">>> bqm_ising.vartype\n",
    "<Vartype.SPIN: frozenset({1, -1})>\n",
    "```\n",
    "\n",
    "These attributes are helpful to probe the details of an instance of BQM. The above two instances `bqm_qubo` and `bqm_ising` share the same attribute values except for the `vartype` attribute."
   ]
  },
  {
   "cell_type": "markdown",
   "id": "5f818381",
   "metadata": {},
   "source": [
    "### Task 1\n",
    "\n",
    "Create a QUBO instance of BQM for the following objective function\n",
    "\n",
    "$$f(x_1, x_2) = 5x_1 + 7x_1 x_2 - 3x_2$$"
   ]
  },
  {
   "cell_type": "markdown",
   "id": "301c3797",
   "metadata": {},
   "source": [
    "[Click Here for Solution](BQM_Formulation_Solution.ipynb#Task-1)"
   ]
  },
  {
   "cell_type": "markdown",
   "id": "3176172c",
   "metadata": {},
   "source": [
    "### Task 2\n",
    "\n",
    "Create an Ising instance of BQM for the following objective function\n",
    "\n",
    "$$f(x_1, x_2, x_3, x_4) = x_1 + x_2 + x_3 + x_4 - 6x_1 x_3 - 6x_1 x_4 - 6x_3 x_4 - 6x_1 x_2$$"
   ]
  },
  {
   "cell_type": "markdown",
   "id": "0ff51712",
   "metadata": {},
   "source": [
    "[Click Here for Solution](BQM_Formulation_Solution.ipynb#Task-2)"
   ]
  },
  {
   "cell_type": "markdown",
   "id": "8290044d",
   "metadata": {},
   "source": [
    "### Task 3\n",
    "\n",
    "Find the `linear`, `quadratic`, `offset` and `vartype` values of the following instance of BQM."
   ]
  },
  {
   "cell_type": "code",
   "execution_count": 12,
   "id": "0ace8ef1",
   "metadata": {
    "ExecuteTime": {
     "end_time": "2021-08-29T15:15:22.725704Z",
     "start_time": "2021-08-29T15:15:22.721758Z"
    }
   },
   "outputs": [],
   "source": [
    "%run bqm_functions.py\n",
    "\n",
    "bqm_mystery = BinaryQuadraticModel(linear, quadratic, offset, vartype)\n",
    "\n",
    "# Enter your code here\n",
    "\n",
    "\n",
    "\n"
   ]
  },
  {
   "cell_type": "markdown",
   "id": "f8fbd2de",
   "metadata": {},
   "source": [
    "[Click Here for Solution](BQM_Formulation_Solution.ipynb#Task-3)"
   ]
  },
  {
   "cell_type": "markdown",
   "id": "67a168ac",
   "metadata": {},
   "source": [
    "# References\n",
    "\n",
    "1. [\"Binary Quadratic Models\"](https://test-projecttemplate-dimod.readthedocs.io/en/latest/reference/bqm/index.html), `dimod` Documentation, accessed August, 2021.\n",
    "2. [\"Getting Started\"](https://docs.ocean.dwavesys.com/en/stable/getting_started.html#gs), D-Wave Ocean Software Documentation, accessed August, 2021."
   ]
  }
 ],
 "metadata": {
  "kernelspec": {
   "display_name": "Python 3 (ipykernel)",
   "language": "python",
   "name": "python3"
  },
  "language_info": {
   "codemirror_mode": {
    "name": "ipython",
    "version": 3
   },
   "file_extension": ".py",
   "mimetype": "text/x-python",
   "name": "python",
   "nbconvert_exporter": "python",
   "pygments_lexer": "ipython3",
   "version": "3.9.5"
  },
  "latex_envs": {
   "LaTeX_envs_menu_present": true,
   "autoclose": true,
   "autocomplete": true,
   "bibliofile": "biblio.bib",
   "cite_by": "apalike",
   "current_citInitial": 1,
   "eqLabelWithNumbers": true,
   "eqNumInitial": 1,
   "hotkeys": {
    "equation": "Ctrl-E",
    "itemize": "Ctrl-I"
   },
   "labels_anchors": false,
   "latex_user_defs": false,
   "report_style_numbering": false,
   "user_envs_cfg": false
  },
  "toc": {
   "base_numbering": 1,
   "nav_menu": {},
   "number_sections": false,
   "sideBar": true,
   "skip_h1_title": false,
   "title_cell": "Table of Contents",
   "title_sidebar": "Contents",
   "toc_cell": false,
   "toc_position": {},
   "toc_section_display": true,
   "toc_window_display": false
  }
 },
 "nbformat": 4,
 "nbformat_minor": 5
}
