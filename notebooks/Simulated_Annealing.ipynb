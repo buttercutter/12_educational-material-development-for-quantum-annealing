{
 "cells": [
  {
   "cell_type": "markdown",
   "id": "f7881d53",
   "metadata": {},
   "source": [
    "<table width = \"100%\">\n",
    "  <tr style=\"background-color:white;\">\n",
    "    <!-- QWorld Logo -->\n",
    "    <td style=\"text-align:left;width:200px;\"> \n",
    "        <a href=\"https://qworld.net/\" target=\"_blank\"><img src=\"../images/QWorld.png\"> </a></td>\n",
    "    <td style=\"text-align:right;vertical-align:bottom;font-size:16px;\"> \n",
    "        Prepared by <a href=\"https://gitlab.com/Manan-Sood\" target=\"_blank\"> Manan Sood </a></td>\n",
    "    </tr> \n",
    " </table>\n",
    " \n",
    "<hr>"
   ]
  },
  {
   "cell_type": "markdown",
   "id": "bored-beatles",
   "metadata": {},
   "source": [
    "## Simulated Annealing"
   ]
  },
  {
   "cell_type": "markdown",
   "id": "palestinian-pride",
   "metadata": {},
   "source": [
    "Simulated Annealing is a stochastic global search optimization algorithm.\n",
    "\n",
    "It makes use of randomness as part of the search process and that makes the algorithm appropriate for nonlinear objective functions where other local search algorithms do not operate well. The algorithm is inspired by annealing in metallurgy where metal is heated to a high temperature quickly, then cooled slowly, which increases its strength and makes it easier to work with.\n",
    "\n",
    "The annealing process works by first exciting the atoms in the material at a high temperature, allowing the atoms to move around a lot, then decreasing their excitement slowly, allowing the atoms to fall into a new, more stable configuration. The simulated annealing optimization algorithm can be considered as a modified version of stochastic hill climbing. Stochastic hill climbing maintains a single candidate solution and takes steps of a random but constrained size from the candidate in the search space. If the new point is better than the current point, then the current point is replaced with the new point. This process continues for a fixed number of iterations.\n",
    "\n",
    "Simulated annealing executes the search in the same way. The main difference is that new points that are not as good as the current point (worse points) are accepted sometimes. A worse point is accepted probabilistically where the likelihood of accepting a solution worse than the current solution is a function of the temperature of the search and how much worse the solution is than the current solution.\n",
    "\n",
    "Simulated Annealing (SA) mimics the Physical Annealing process but is used for optimizing parameters in a model. This process is very useful for situations where there are a lot of local minima such that algorithms like Gradient Descent would be stuck at."
   ]
  },
  {
   "cell_type": "markdown",
   "id": "86c1dab8",
   "metadata": {},
   "source": [
    "\n",
    "\n",
    "### Algorithm\n",
    "\n",
    "<B> Step 1: </B> We first start with an initial solution $S = S₀$. This can be any solution that fits the criteria for an acceptable solution. We also start with an initial temperature $t = t₀$.\n",
    "\n",
    "<B> Step 2: </B> Setup a temperature reduction function alpha. There are usually 3 main types of temperature reduction rules:\n",
    "\n",
    "\n",
    "1. Linear Reduction Rule: $t = t - \\alpha$\n",
    "2. Geometric Reduction Rule: $t = t * \\alpha$\n",
    "3. Slow-Decrease Rule: $t \\over 1+\\beta t$\n",
    "\n",
    "Each reduction rule reduces the temperature at a different rate and each method is better at optimizing a different type of model. For the 3rd rule, $\\beta$ is an arbitrary constant.\n",
    "\n",
    "\n",
    "<B> Step 3: </B> Starting at the initial temperature, loop through n iterations of Step 4 and then decrease the temperature according to alpha. Stop this loop until the termination conditions are reached. The termination conditions could be reaching some end temperature, reaching some acceptable threshold of performance for a given set of parameters, etc. The mapping of time to temperature and how fast the temperature decreases is called the Annealing Schedule.\n",
    "\n",
    "<B> Step 4: </B> Given the neighbourhood of solutions N(s), pick one of the solutions and calculate the difference in cost between the old solution and the new neighbour solution. The neighbourhood of a solution are all solutions that are close to the solution. For example, the neighbourhood of a set of 5 parameters might be if we were to change one of the five parameters but kept the remaining four the same.\n",
    "\n",
    "<B> Step 5: </B> If the difference in cost between the old and new solution is greater than 0 (the new solution is better), then accept the new solution. If the difference in cost is less than 0 (the old solution is better), then generate a random number between 0 and 1 and accept it if it’s under the value calculated from the Energy Magnitude equation from before.\n",
    "In the Simulated Annealing case, the equation has been altered to the following:\n",
    "\n",
    "\\begin{equation}\n",
    "  f(x)=\\begin{cases}\n",
    "    1, & \\text{if $\\bigtriangleup c \\leq 0$}\\\\\n",
    "    e^{-\\bigtriangleup c/t }, & \\text{if $\\bigtriangleup c > 0$}\n",
    "  \\end{cases}\n",
    "\\end{equation}\n",
    "\n",
    "Where the $\\bigtriangleup c$ is the change in cost and the t is the current temperature.\n",
    "The P calculated in this case is the probability that we should accept the new solution.\n"
   ]
  },
  {
   "cell_type": "code",
   "execution_count": null,
   "id": "1750ed85",
   "metadata": {},
   "outputs": [],
   "source": []
  }
 ],
 "metadata": {
  "kernelspec": {
   "display_name": "Python 3",
   "language": "python",
   "name": "python3"
  },
  "language_info": {
   "codemirror_mode": {
    "name": "ipython",
    "version": 3
   },
   "file_extension": ".py",
   "mimetype": "text/x-python",
   "name": "python",
   "nbconvert_exporter": "python",
   "pygments_lexer": "ipython3",
   "version": "3.8.8"
  },
  "latex_envs": {
   "LaTeX_envs_menu_present": true,
   "autoclose": true,
   "autocomplete": true,
   "bibliofile": "biblio.bib",
   "cite_by": "apalike",
   "current_citInitial": 1,
   "eqLabelWithNumbers": true,
   "eqNumInitial": 1,
   "hotkeys": {
    "equation": "Ctrl-E",
    "itemize": "Ctrl-I"
   },
   "labels_anchors": false,
   "latex_user_defs": false,
   "report_style_numbering": false,
   "user_envs_cfg": false
  },
  "toc": {
   "base_numbering": 1,
   "nav_menu": {},
   "number_sections": true,
   "sideBar": true,
   "skip_h1_title": false,
   "title_cell": "Table of Contents",
   "title_sidebar": "Contents",
   "toc_cell": false,
   "toc_position": {},
   "toc_section_display": true,
   "toc_window_display": false
  }
 },
 "nbformat": 4,
 "nbformat_minor": 5
}
