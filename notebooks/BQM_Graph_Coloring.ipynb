{
 "cells": [
  {
   "cell_type": "markdown",
   "id": "neither-theater",
   "metadata": {},
   "source": [
    "<table width = \"100%\">\n",
    "  <tr style=\"background-color:white;\">\n",
    "    <!-- QWorld Logo -->\n",
    "    <td style=\"text-align:left;width:200px;\"> \n",
    "        <a href=\"https://qworld.net/\" target=\"_blank\"><img src=\"../images/QWorld.png\"> </a></td>\n",
    "    <td style=\"text-align:right;vertical-align:bottom;font-size:16px;\"> \n",
    "        Prepared by <a href=\"https://gitlab.com/AkashNarayanan\" target=\"_blank\"> AkashNarayanan B</a>, <a href=\"https://gitlab.com/pjr1363\" target=\"_blank\"> Paul Joseph Robin</a> and Özlem Salehi</td>    \n",
    "</table>\n",
    "<hr>"
   ]
  },
  {
   "cell_type": "markdown",
   "id": "improved-leader",
   "metadata": {},
   "source": [
    "# BQM for the Graph Coloring Problem\n",
    "\n",
    "Let us briefly recall the the graph coloring problem. Given a graph, the question is to decide whether the graph can be colored so that the adjacent vertices have a different color from the set of $K$ colors.\n",
    "\n",
    "QUBO formulation is given as:\n",
    "\n",
    "$$  \\sum_{i=0}^{N-1} \\left(1-\\sum_{c=0}^{K-1}x_{i,c}\\right)^2 +  \\sum_{(i,j) \\in E} \\sum_{c=0}^{K-1} x_{i,c}x_{j,c}$$\n"
   ]
  },
  {
   "cell_type": "markdown",
   "id": "scenic-delight",
   "metadata": {},
   "source": [
    "### Imports"
   ]
  },
  {
   "cell_type": "code",
   "execution_count": null,
   "id": "funky-search",
   "metadata": {},
   "outputs": [],
   "source": [
    "from collections import defaultdict\n",
    "\n",
    "import dimod\n",
    "from dimod import BQM\n",
    "import dwave_networkx as dnx\n",
    "from neal import SimulatedAnnealingSampler\n",
    "import networkx as nx\n",
    "\n",
    "import bqm_utils"
   ]
  },
  {
   "cell_type": "markdown",
   "id": "61967fd4",
   "metadata": {},
   "source": [
    "## Built-in Function"
   ]
  },
  {
   "cell_type": "markdown",
   "id": "8cad4d01",
   "metadata": {},
   "source": [
    "`vertex_color` is the builtin function in the `dwave-networkx` package for solving the graph coloring problem."
   ]
  },
  {
   "cell_type": "markdown",
   "id": "abac69ab",
   "metadata": {},
   "source": [
    "### Parameters\n",
    "\n",
    "- `G` - The NetworkX graph\n",
    "- `colors` - List of colors\n",
    "- `sampler` - BQM sampler for solving the NetworkX graph\n",
    "\n",
    "\n"
   ]
  },
  {
   "cell_type": "markdown",
   "id": "180abbf4",
   "metadata": {},
   "source": [
    "### Example 1"
   ]
  },
  {
   "cell_type": "markdown",
   "id": "compact-withdrawal",
   "metadata": {},
   "source": [
    "\n",
    "\n",
    "Consider this graph with five nodes which was [introduced](QUBO_Examples_GraphColoring_Solutions#task5) in the Graph Coloring notebook. \n",
    "\n",
    "<img src=\"../images/gc_2.png\" width=\"200\">\n"
   ]
  },
  {
   "cell_type": "markdown",
   "id": "virtual-cherry",
   "metadata": {},
   "source": [
    "Let us create the above graph using NetworkX and decide whether it is possible to color the graph using with color using the built-in function available in `dwave_networkx` package. We will use the `SimulatedAnealingSampler`."
   ]
  },
  {
   "cell_type": "code",
   "execution_count": null,
   "id": "published-piano",
   "metadata": {},
   "outputs": [],
   "source": [
    "G = nx.Graph()\n",
    "edges = [(0, 1), (0,4), (1,2), (1,3), (1,4), (2,3), (3,4)]\n",
    "G.add_edges_from(edges)\n",
    "bqm_utils.graph_viz(G)"
   ]
  },
  {
   "cell_type": "markdown",
   "id": "9cdda883",
   "metadata": {},
   "source": [
    "Let's define the list of colors."
   ]
  },
  {
   "cell_type": "code",
   "execution_count": null,
   "id": "maritime-poultry",
   "metadata": {},
   "outputs": [],
   "source": [
    "colors = [0, 1, 2]"
   ]
  },
  {
   "cell_type": "code",
   "execution_count": null,
   "id": "metric-arena",
   "metadata": {},
   "outputs": [],
   "source": [
    "sampler = neal.SimulatedAnnealingSampler()\n",
    "coloring = dnx.vertex_color(G, colors, sampler)\n",
    "print(coloring)"
   ]
  },
  {
   "cell_type": "markdown",
   "id": "cf01778f",
   "metadata": {},
   "source": [
    "Note that it may not be always the case that it is possible to color the graph with the list of provided colors. We can use the following built-in function to verify whether the found coloring is feasible i.e. all adjacent nodes are colored using a different color."
   ]
  },
  {
   "cell_type": "code",
   "execution_count": null,
   "id": "otherwise-discussion",
   "metadata": {},
   "outputs": [],
   "source": [
    "dnx.is_vertex_coloring(G, coloring)"
   ]
  },
  {
   "cell_type": "markdown",
   "id": "functional-fortune",
   "metadata": {},
   "source": [
    "Let us visualize the result."
   ]
  },
  {
   "cell_type": "code",
   "execution_count": null,
   "id": "collected-spectacular",
   "metadata": {},
   "outputs": [],
   "source": [
    "bqm_utils.graph_coloring_viz(G, coloring)"
   ]
  },
  {
   "cell_type": "markdown",
   "id": "compound-sender",
   "metadata": {},
   "source": [
    "## Formulating BQM using OceanSDK functions"
   ]
  },
  {
   "cell_type": "markdown",
   "id": "wireless-decimal",
   "metadata": {},
   "source": [
    "### Step 1 - Define an empty BQM"
   ]
  },
  {
   "cell_type": "code",
   "execution_count": null,
   "id": "bound-cloud",
   "metadata": {},
   "outputs": [],
   "source": [
    "bqm = BQM('BINARY')"
   ]
  },
  {
   "cell_type": "markdown",
   "id": "cloudy-trigger",
   "metadata": {},
   "source": [
    "### Step 2 -  Add the Constraints to the BQM\n",
    "\n",
    "Using the functionality of ``BQM` class, we will add the constraints directly instead of using the penalty method.\n",
    "\n",
    "#### Constraint 1\n",
    "\n",
    "Each node should be colored exactly once.\n",
    "\n",
    "$$\n",
    "\\sum_{c=0}^{K-1} x_{i,c} = 1 \\quad \\forall  i=0,\\dots,N-1\n",
    "$$"
   ]
  },
  {
   "cell_type": "markdown",
   "id": "leading-melissa",
   "metadata": {},
   "source": [
    "### Task 1\n",
    "\n",
    "Add the first constraint to the BQM."
   ]
  },
  {
   "cell_type": "code",
   "execution_count": null,
   "id": "beginning-tract",
   "metadata": {
    "scrolled": true
   },
   "outputs": [],
   "source": [
    "\n",
    "#Your code here\n",
    "c"
   ]
  },
  {
   "cell_type": "markdown",
   "id": "618d734b",
   "metadata": {},
   "source": [
    "[click here for solution](BQM_Graph_Coloring_Solutions.ipynb#Task1)"
   ]
  },
  {
   "cell_type": "markdown",
   "id": "partial-lobby",
   "metadata": {},
   "source": [
    "#### Constraint 2\n",
    "\n",
    "Adjacent nodes should have different colors.\n",
    "\n",
    "$$\n",
    "x_{i,c} + x_{j,c} \\leq 1 \\quad \\forall  c=1,\\dots,K \\text{ and } (i,j) \\in E\n",
    "$$"
   ]
  },
  {
   "cell_type": "markdown",
   "id": "6cac0730",
   "metadata": {},
   "source": [
    "We use the function `add_linear_inequality_constraint` through which you can add linear inequality constraints of the form \n",
    "\n",
    "$$lb \\leq c_1x_1+c_2x_2+\\dots+c_nx_n+c \\leq ub.$$\n",
    "\n",
    "The coefficients for the binary variables should be provided as a list\n",
    "\n",
    "$$[(x_1,c_1), (x_2,c_2), \\dots, (x_n,c_n)] $$\n",
    "\n",
    "followed by the constant term $c$ and the `lagrange_multiplier` parameter which corresponds to the penalty coefficient we have seen. \n",
    "\n",
    "`lb` and `up`are the lower and upper bounds which are by default set to 0. They are optional parameters.\n",
    "\n",
    "Additionaly, `label` is a must have parameter by which you should put a label for the inequality contraint.\n"
   ]
  },
  {
   "cell_type": "code",
   "execution_count": null,
   "id": "turkish-badge",
   "metadata": {
    "scrolled": false
   },
   "outputs": [],
   "source": [
    "for c in colors:\n",
    "    for i, j in G.edges:\n",
    "        c2 = [(f\"x_{i}_{c}\", 1), (f\"x_{j}_{c}\", 1)]\n",
    "        bqm.add_linear_inequality_constraint(\n",
    "            c2, lagrange_multiplier=1, ub=1, label=f\"c2_{i}_{j}_{c}\"\n",
    "        )"
   ]
  },
  {
   "cell_type": "markdown",
   "id": "ef34d3b4",
   "metadata": {},
   "source": [
    "You will see that in the sampleset, there will be additional <b>slack</b> variables named using the label of the inequality constraint. \n",
    "\n",
    "Those are created when converting inequality to equality. "
   ]
  },
  {
   "cell_type": "markdown",
   "id": "certified-surrey",
   "metadata": {},
   "source": [
    "### Step 3 - Solve the BQM"
   ]
  },
  {
   "cell_type": "code",
   "execution_count": null,
   "id": "handled-performer",
   "metadata": {},
   "outputs": [],
   "source": [
    "sampler = SimulatedAnnealingSampler()\n",
    "sampleset = sampler.sample(bqm, num_reads=100)\n",
    "print(sampleset.truncate(10))"
   ]
  },
  {
   "cell_type": "markdown",
   "id": "lasting-adult",
   "metadata": {},
   "source": [
    "### Step 4 - Interpret and check the feasibility of the samples in the sampleset and find the optimum sample"
   ]
  },
  {
   "cell_type": "markdown",
   "id": "3c61f860",
   "metadata": {},
   "source": [
    "As a result of simulated annealing, we obtain a sample where some of the variables are set to 1 and some of the variables are set to 0. \n",
    "\n"
   ]
  },
  {
   "cell_type": "markdown",
   "id": "6ea1044d",
   "metadata": {},
   "source": [
    "Given a sample, we may want to check if it corresponds to a feasible solution or not, i.e. whether each node is colored so that the adjacent nodes are colored using different colors."
   ]
  },
  {
   "cell_type": "markdown",
   "id": "493e67f2",
   "metadata": {},
   "source": [
    "### Task 2\n",
    "\n",
    "Write a Python function named `is_sample_feasible` that takes as parameter a sample containing binary variables named `x_i_c` and their values, the list of colors, the list of edges, and the number of nodes and returns True if the sample corresponds to a feasible coloring and false otherwise."
   ]
  },
  {
   "cell_type": "code",
   "execution_count": null,
   "id": "4b06df36",
   "metadata": {},
   "outputs": [],
   "source": [
    "def is_sample_feasible(sample, colors, edges, N):\n",
    "    \n",
    "    # Your code here"
   ]
  },
  {
   "cell_type": "code",
   "execution_count": null,
   "id": "da68094b",
   "metadata": {},
   "outputs": [],
   "source": [
    "first_sample = sampleset.first.sample\n",
    "is_sample_feasible(first_sample,colors,G.edges, N)"
   ]
  },
  {
   "cell_type": "markdown",
   "id": "b7945d5e",
   "metadata": {},
   "source": [
    "[click here for solution](BQM_Graph_Coloring_Solutions.ipynb#Task1)"
   ]
  },
  {
   "cell_type": "markdown",
   "id": "9a1ea01d",
   "metadata": {},
   "source": [
    "In case the first sample is not feasible, we may search for another solution among the sampleset which is feasible. This can be accomplished by the following code:"
   ]
  },
  {
   "cell_type": "code",
   "execution_count": null,
   "id": "544c65be",
   "metadata": {},
   "outputs": [],
   "source": [
    "def best_solution(sampleset, colors, edges, N):\n",
    "    for sample, energy in sampleset.data(fields=[\"sample\", \"energy\"]):\n",
    "        if is_sample_feasible(sample,colors,edges, N):\n",
    "            return sample, energy\n",
    "    return None, None"
   ]
  },
  {
   "cell_type": "code",
   "execution_count": null,
   "id": "82c3a756",
   "metadata": {},
   "outputs": [],
   "source": [
    "sample, energy = best_solution(sampleset, colors, G.edges,N)\n",
    "print(sample)"
   ]
  },
  {
   "cell_type": "markdown",
   "id": "certain-grill",
   "metadata": {},
   "source": [
    "---\n",
    "\n",
    "Suppose we verified that the sample is feasible. Then we would like to obtain the coloring it corresponds to.\n",
    "\n",
    "In the next Task, your goal is to convert a given sample into a coloring in the form of a dictionary where the keys are the nodes and values are the colors. "
   ]
  },
  {
   "cell_type": "markdown",
   "id": "recent-nevada",
   "metadata": {},
   "source": [
    "### Task 3\n",
    "\n",
    "Write a function named `sample_to_coloring` that takes as parameter a sample containing binary variables named `x_i_c` and their values, the list of colors and the number of vertices, and returns a dictionary where the keys are the nodes and the values are the colors."
   ]
  },
  {
   "cell_type": "code",
   "execution_count": null,
   "id": "derived-breeding",
   "metadata": {},
   "outputs": [],
   "source": [
    "def sample_to_coloring(sample, colors, N):\n",
    "    \n",
    "    # Your code here"
   ]
  },
  {
   "cell_type": "code",
   "execution_count": null,
   "id": "toxic-fellowship",
   "metadata": {},
   "outputs": [],
   "source": [
    "coloring = sample_to_coloring(sample, colors, N)\n",
    "print(coloring)"
   ]
  },
  {
   "cell_type": "markdown",
   "id": "fc1b8fc9",
   "metadata": {},
   "source": [
    "[click here for solution](BQM_Graph_Coloring_Solutions.ipynb#Task3)"
   ]
  },
  {
   "cell_type": "markdown",
   "id": "62779e6f",
   "metadata": {},
   "source": [
    "Note that once you obtain this dictionary, you can also use the built-in function to check feasibility."
   ]
  },
  {
   "cell_type": "code",
   "execution_count": null,
   "id": "770683d4",
   "metadata": {},
   "outputs": [],
   "source": [
    "dnx.is_vertex_coloring(G, coloring)"
   ]
  },
  {
   "cell_type": "markdown",
   "id": "ideal-electric",
   "metadata": {},
   "source": [
    "### Step 5 - Visualize the Output"
   ]
  },
  {
   "cell_type": "code",
   "execution_count": null,
   "id": "understanding-envelope",
   "metadata": {},
   "outputs": [],
   "source": [
    "bqm_utils.graph_coloring_viz(G, coloring)"
   ]
  },
  {
   "cell_type": "markdown",
   "id": "54512380",
   "metadata": {},
   "source": [
    "### Task 4\n",
    "\n",
    "Create a function named `graph_coloring_bqm` that takes as input the list of colors, the list of edges, number of vertices and returns the binary quadratic model for the graph coloring problem. \n"
   ]
  },
  {
   "cell_type": "code",
   "execution_count": null,
   "id": "2396dc19",
   "metadata": {},
   "outputs": [],
   "source": [
    "def graph_coloring_bqm(colors, edges, N):\n",
    "    bqm = BQM('BINARY')\n",
    "    for i in range(N):\n",
    "        c1 = [(f\"x_{i}_{c}\", 1) for c in colors]\n",
    "        bqm.add_linear_equality_constraint(c1, constant=-1, lagrange_multiplier=1)\n",
    "    for c in colors:\n",
    "        for i, j in G.edges:\n",
    "            c2 = [(f\"x_{i}_{c}\", 1), (f\"x_{j}_{c}\", 1)]\n",
    "            bqm.add_linear_inequality_constraint(\n",
    "                c2, lagrange_multiplier=1, ub=1, label=f\"c2_{i}_{j}_{c}\"\n",
    "            )\n",
    "    return bqm"
   ]
  },
  {
   "cell_type": "markdown",
   "id": "050e6e30",
   "metadata": {},
   "source": [
    "[click here for solution](BQM_Graph_Coloring_Solutions.ipynb#Task4)"
   ]
  },
  {
   "cell_type": "markdown",
   "id": "e52ffa04",
   "metadata": {},
   "source": [
    "### Task 5\n",
    "\n",
    "Using the function you have created in Task 4, try coloring the same graph using two colors only and interpret the result.\n"
   ]
  },
  {
   "cell_type": "code",
   "execution_count": null,
   "id": "951912ef",
   "metadata": {},
   "outputs": [],
   "source": [
    "G = nx.Graph()\n",
    "G.add_edges_from(edges)\n",
    "edges = [(0, 1), (0,4), (1,2), (1,3), (1,4), (2,3), (3,4)]\n",
    "\n",
    "#Create list of colors\n",
    "\n",
    "\n",
    "#Create bqm\n",
    "\n",
    "\n",
    "#Solve BQM\n",
    "\n"
   ]
  },
  {
   "cell_type": "code",
   "execution_count": null,
   "id": "2614a76f",
   "metadata": {},
   "outputs": [],
   "source": [
    "#Check feasbility of the first sample\n"
   ]
  },
  {
   "cell_type": "code",
   "execution_count": null,
   "id": "ed4194f1",
   "metadata": {},
   "outputs": [],
   "source": [
    "#Check if any feasible solution exists\n"
   ]
  },
  {
   "cell_type": "code",
   "execution_count": null,
   "id": "8d93d250",
   "metadata": {},
   "outputs": [],
   "source": [
    "#Get the coloring corresponding to the first sample\n"
   ]
  },
  {
   "cell_type": "code",
   "execution_count": null,
   "id": "13deb58a",
   "metadata": {
    "scrolled": true
   },
   "outputs": [],
   "source": [
    "# Visulize the result\n"
   ]
  },
  {
   "cell_type": "markdown",
   "id": "c064f70b",
   "metadata": {},
   "source": [
    "[click here for solution](BQM_Graph_Coloring_Solutions.ipynb#Task5)"
   ]
  },
  {
   "cell_type": "markdown",
   "id": "0b16db95",
   "metadata": {},
   "source": [
    "### Task 6\n",
    "\n",
    "For the Petersen graph displayed below, determine the minimum number of colors needed to properly color the graph.\n",
    "\n",
    "Hint: Starting with 2 colors, increase the number of colors you use inside a loop until a feasible coloring is found."
   ]
  },
  {
   "cell_type": "code",
   "execution_count": 148,
   "id": "superior-karaoke",
   "metadata": {
    "scrolled": true
   },
   "outputs": [
    {
     "data": {
      "image/png": "[encoded data removed]",
      "text/plain": [
       "<Figure size 432x288 with 1 Axes>"
      ]
     },
     "metadata": {},
     "output_type": "display_data"
    }
   ],
   "source": [
    "Gp = nx.petersen_graph()\n",
    "bqm_utils.graph_viz(Gp)"
   ]
  },
  {
   "cell_type": "code",
   "execution_count": null,
   "id": "8a23746b",
   "metadata": {},
   "outputs": [],
   "source": [
    "\n",
    "#Your code here\n"
   ]
  },
  {
   "cell_type": "markdown",
   "id": "ee1edd5d",
   "metadata": {},
   "source": [
    "[click here for solution](BQM_Graph_Coloring_Solutions.ipynb#Task6)"
   ]
  },
  {
   "cell_type": "markdown",
   "id": "existing-example",
   "metadata": {},
   "source": [
    "# References\n",
    "\n",
    "1. F. Glover, G. Kochenberger and Y. Du. \"Quantum Bridge Analytics I: A Tutorial on Formulating and Using QUBO Models,\" [arXiv:1811.11538v6](https://arxiv.org/abs/1811.11538v6), 2019.\n",
    "\n",
    "2. [\"Graph Coloring\"](https://github.com/dwave-examples/graph-coloring),  D-Wave Systems Examples, accessed December 2021.\n",
    "\n",
    "3. [\"Map Coloring\"](https://github.com/dwave-examples/map-coloring),  D-Wave Systems Examples, accessed December 2021."
   ]
  }
 ],
 "metadata": {
  "interpreter": {
   "hash": "dc8a87a61792c4ac2acc11cc664369f408d2b18f7f59b6511835755cda2109ac"
  },
  "kernelspec": {
   "display_name": "Python 3",
   "language": "python",
   "name": "python3"
  },
  "language_info": {
   "codemirror_mode": {
    "name": "ipython",
    "version": 3
   },
   "file_extension": ".py",
   "mimetype": "text/x-python",
   "name": "python",
   "nbconvert_exporter": "python",
   "pygments_lexer": "ipython3",
   "version": "3.7.3"
  }
 },
 "nbformat": 4,
 "nbformat_minor": 5
}
