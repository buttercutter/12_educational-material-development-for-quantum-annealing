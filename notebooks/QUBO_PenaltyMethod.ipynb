{
 "cells": [
  {
   "cell_type": "markdown",
   "id": "filled-canada",
   "metadata": {},
   "source": [
    "<table width = \"100%\">\n",
    "  <tr style=\"background-color:white;\">\n",
    "    <!-- QWorld Logo -->\n",
    "    <td style=\"text-align:left;width:200px;\"> \n",
    "        <a href=\"https://qworld.net/\" target=\"_blank\"><img src=\"../images/QWorld.png\"> </a></td>\n",
    "    <td style=\"text-align:right;vertical-align:bottom;font-size:16px;\"> \n",
    "        Prepared by <a href=\"https://gitlab.com/sabahuddin.ahmad\" target=\"_blank\"> Sabah Ud Din Ahmad </a></td>\n",
    "    </tr> \n",
    " </table>\n",
    " \n",
    "<hr>"
   ]
  },
  {
   "cell_type": "markdown",
   "id": "bearing-desire",
   "metadata": {},
   "source": [
    "# QUBO Formulation with Penalty Method"
   ]
  },
  {
   "cell_type": "markdown",
   "id": "touched-finish",
   "metadata": {},
   "source": [
    "In the previous section, we learnt about the maximum cut problem where the problem characteristics led directly to an optimazation problem in the desired QUBO form. The natural QUBO form contains no constraints. \n",
    "\n",
    "However, there are many problems that include constraints that must be satisfied to reach an optimum solution. Many of these constrained problems can be reconverted to formulate the desired QUBO form using a method known as **penalty method**."
   ]
  },
  {
   "cell_type": "markdown",
   "id": "worse-graham",
   "metadata": {},
   "source": [
    "## Constrained problems"
   ]
  },
  {
   "cell_type": "markdown",
   "id": "embedded-montgomery",
   "metadata": {},
   "source": [
    "In constrained problems, a set of constraints need to be satisfied while minimizing an objective function."
   ]
  },
  {
   "cell_type": "markdown",
   "id": "prospective-phenomenon",
   "metadata": {},
   "source": [
    "### Task 1\n",
    "\n",
    "Consider the objective function $f(x) = 5x_1 + 7x_1x_2 - 3x_2$. Find $x \\in \\{0,1\\}^2$ that minimizes $f(x)$ subject to the constraint $x_1-x_2 = 0$. "
   ]
  },
  {
   "cell_type": "markdown",
   "id": "wooden-quarterly",
   "metadata": {},
   "source": [
    "[click here for solution](QUBO_PenaltyMethod_Solutions.ipynb#task1)"
   ]
  },
  {
   "cell_type": "markdown",
   "id": "rubber-disco",
   "metadata": {},
   "source": [
    "## Penalty method"
   ]
  },
  {
   "cell_type": "markdown",
   "id": "parallel-coordinate",
   "metadata": {},
   "source": [
    "Using the penalty method, a constrained optimization problem can be converted into an unconstrained problem.\n",
    "\n",
    "To create the corresponding unconstrained problem, **penalty terms** are added to the original objective function. The penalty term consists of a penalty coefficient which is a positive scalar multiplied by a measure of violation of the constraints. The measure of violation is zero when constraints are not violated; non-zero otherwise. Thus, the penalties are formulated so that they equal zero for **feasible solutions** (solutions which do not violate any constraints); non-zero for **infeasible solution** (solutions which violate at least one constraint)."
   ]
  },
  {
   "cell_type": "markdown",
   "id": "different-patrick",
   "metadata": {},
   "source": [
    "<a id=\"cases\"></a>\n",
    "### Specific Cases\n",
    "\n",
    "For specific constraints, there are some useful known quadratic penalty terms that can be added to the objective function.\n",
    "\n",
    "|Classical Constraint|    Equivalent Quadratic Penalty         |\n",
    "|:-----|:-----------|\n",
    "|$x+y \\leq 1$ |$P\\cdot(xy)$ |\n",
    "|$x+y \\geq 1$ |$P\\cdot(1-x-y+xy)$|\n",
    "|$x+y=1$ |$P\\dot(1-x-y+2xy)$ |\n",
    "|$x \\leq y$ |$P\\cdot(x-xy)$ |\n",
    "|$x_1+ x_2+x_3 \\leq 1$ |$P\\cdot(x_1x_2+x_1x_3+x_2x_3)$ |\n",
    "|$x=y$ |$P\\cdot(x+y-2xy)$ |\n",
    "\n",
    "<div class=\"alert alert-block alert-info\">All variables here are binary. $P$ is a positive, scalar penalty parameter and it must be chosen to be sufficiently large.</div>"
   ]
  },
  {
   "cell_type": "markdown",
   "id": "working-brooklyn",
   "metadata": {},
   "source": [
    "### Task 2\n",
    "\n",
    "Consider a constrained problem of the form:\n",
    "$$\\min y = f(x)$$\n",
    "\n",
    "which is subjected to the constraint $x_1+ x_2 \\leq 1$ ($x_1$ and $x_2$ are binary variables). What will be the equivalent penalty for this problem? Express problem as a QUBO."
   ]
  },
  {
   "cell_type": "markdown",
   "id": "becoming-rescue",
   "metadata": {},
   "source": [
    "[click here for solution](QUBO_PenaltyMethod_Solutions.ipynb#task2)\n"
   ]
  },
  {
   "cell_type": "markdown",
   "id": "improving-sunday",
   "metadata": {},
   "source": [
    "### Task 3\n",
    "\n",
    "Consider a constrained problem of the form:\n",
    "$$\\min y = f(x)$$\n",
    "\n",
    "which is subjected to the constraint $x_1+ x_2 = 1$ ($x_1$ & $x_2$ are binary variables). What will be the equivalent penalty for this problem? Express problem as a QUBO."
   ]
  },
  {
   "cell_type": "markdown",
   "id": "secure-triumph",
   "metadata": {},
   "source": [
    "[click here for solution](QUBO_PenaltyMethod_Solutions.ipynb#task3)\n",
    "\n",
    "***"
   ]
  },
  {
   "cell_type": "markdown",
   "id": "twelve-physics",
   "metadata": {},
   "source": [
    "### Transforming problems with linear equality constraints \n",
    "\n",
    "<div class=\"alert alert-block alert-info\">\n",
    "We will assume that we are not restricted to binary variables but integer variables are also allowed when discussing the transformations to keep it more general. Later on, we will show how to convert integer variables to binary variables.\n",
    "</div>\n",
    "\n",
    "Suppose we have integer variables $y_1,\\dots,y_k$ and suppose that $f(y_1,\\dots,y_k)$ is our objective function to be minimized. \n",
    "\n",
    "Suppose that we are given a constraint in the form of a linear equality\n",
    "$$\\sum_{i=1}^{k} a_iy_i=b$$\n",
    "\n",
    "where $a_i, b \\in \\mathbb{R}$.\n",
    "\n",
    "The transformation results in the following objective function,\n",
    "\n",
    "$$f(y_1,\\dots,y_k)+P \\cdot \\left( \\sum_{i=1}^{k}a_iy_i-b\\right)^2$$\n",
    "\n",
    "If variables $y_i$ satisfy the constraint, this reduces to the original $f(y_1,\\dots,y_k)$. Otherwise, a positive penalty value is added to the objective function."
   ]
  },
  {
   "cell_type": "markdown",
   "id": "continent-optimum",
   "metadata": {},
   "source": [
    "### Task 4\n",
    "\n",
    "Express the constrained problem given in Task 1 as a QUBO using penalty method."
   ]
  },
  {
   "cell_type": "markdown",
   "id": "considered-omaha",
   "metadata": {},
   "source": [
    "[click here for solution](QUBO_PenaltyMethod_Solutions.ipynb#task4)"
   ]
  },
  {
   "cell_type": "markdown",
   "id": "joint-reasoning",
   "metadata": {},
   "source": [
    "### Selection of the penalty coefficient"
   ]
  },
  {
   "cell_type": "markdown",
   "id": "corresponding-somerset",
   "metadata": {},
   "source": [
    "How large the penalty coefficient $P$ should be? This depends on the specific problem we would like to solve. The idea is that it shouldn't be too small so that a constraint is violated in favor of having a smaller $f(x)$. You may think that there is no harm in setting $P$ as large as possible, but in practice, the methods for solving QUBO may not distinguish between feasible solutions with different objective values if $P$ is too large compared to $f(x)$."
   ]
  },
  {
   "cell_type": "markdown",
   "id": "natural-motivation",
   "metadata": {},
   "source": [
    "### Transforming problems with linear inequality constraints \n",
    "\n",
    "Given a linear inequality of the form,\n",
    "\n",
    "$$\\sum_{i=1}^{k} a_iy_i \\leq b$$\n",
    "\n",
    "it should be first transformed into an equality constraint using non-negative *integer* slack variables i.e., $\\eta \\geq 0$. \n",
    "\n",
    "$$\\sum_{i=1}^{k} a_iy_i+\\eta=b$$.\n",
    "\n",
    "The transformation results in the following objective function,\n",
    "\n",
    "$$f(y_1,....,y_k)+P\\cdot \\left( \\sum_{i=1}^{k}a_iy_i+\\eta-b\\right)^2$$."
   ]
  },
  {
   "cell_type": "markdown",
   "id": "middle-reliance",
   "metadata": {},
   "source": [
    "<div class=\"alert alert-block alert-info\">\n",
    "    \n",
    "Note that, $\\eta$ is an integer variable and it needs to be expresessed using binary variables as well."
   ]
  },
  {
   "cell_type": "markdown",
   "id": "veterinary-tract",
   "metadata": {},
   "source": [
    "## Transforming integer variables to binary variables\n",
    "\n",
    "Since we considered integer variables $y_1,\\dots,y_k$ and $\\eta$ and QUBO uses binary decision variables, we should convert our integer variables to binary variables. \n",
    "\n",
    "First, we need to define the lower and the upper bound foe each integer variable. For variables $y_i$, this is usually determined by the problem definition. For integer variables $y_1,\\dots,y_k$, suppose that we have $\\underline{\\rm y_i} \\leq y_i \\leq \\overline{\\rm y_i}$ which can be expressed as $y_i \\in \\{\\underline{\\rm y_i},\\dots,\\overline{\\rm y_i}\\}$. \n",
    "\n",
    "$y_i$ can be expressed using binary varaibles $x_j^i \\in \\{0,1\\}$ as follows:\n",
    "\n",
    "$$\n",
    "\\underline y_i+\\sum_{j=0}^{N-2}2^j x_{j}^i+\\bigl (\\overline{y_i}-\\sum_{j=0}^{N-2}2^j\\bigr)x_{N-1}^i,\n",
    "$$\n",
    "where $N = \\lceil \\log_2(\\overline y_i-\\underline y_i+1)\\rceil $."
   ]
  },
  {
   "cell_type": "markdown",
   "id": "opposed-class",
   "metadata": {},
   "source": [
    "Similarly for $\\eta$, we first need to determine the upper and lower bounds for. In this case, those bounds depend on the linear inequality and can be expressed as follows:\n",
    "\n",
    "$$0\\leq \\eta \\leq  \\left(b- \\sum_{i=1}^{k} \\min \\{a_i\\underline{\\rm y_i}, a_i\\overline{\\rm y_i}\\}\\right).$$\n",
    "\n",
    "The rest is similar to the conversion of $y_i$ variables."
   ]
  },
  {
   "cell_type": "markdown",
   "id": "differential-partner",
   "metadata": {},
   "source": [
    "### Task 5\n",
    "\n",
    "Consider the following constraint $y_1+ y_2 \\geq 10$, where $y_1$ and $y_2$ are integer variables and $0 \\leq y_1 \\leq 8$ and $0 \\leq y_2 \\leq 5$. What will be the equivalent penalty? \n",
    "\n",
    "Suppose that $f(y_1, y_2)$ is the objective function to be minimized, what will be the new objective function including the penalty? "
   ]
  },
  {
   "cell_type": "markdown",
   "id": "victorian-azerbaijan",
   "metadata": {},
   "source": [
    "[click here for solution](QUBO_PenaltyMethod_Solutions.ipynb#task5)\n",
    "***"
   ]
  },
  {
   "cell_type": "markdown",
   "id": "ecological-reflection",
   "metadata": {},
   "source": [
    "## Integer linear programming (ILP)"
   ]
  },
  {
   "cell_type": "markdown",
   "id": "modular-negative",
   "metadata": {},
   "source": [
    "*Integer linear programming* is a mathematical model for problems defined over integer variables with a linear objective function and a set of linear constraints. Formally, an integer linear program is defined as\n",
    "$$\n",
    "\\text{minimize} \\hspace{1em} \\sum_{j} c_j y_j \\\\\n",
    "\\text{subject to} \\hspace{1em } \\sum_{j} A_{ij}y_j \\leq b_i, \\hspace{1em} i=1,\\dots,m \\\\\n",
    "{} y_j \\geq 0, y_j \\in \\mathbb{Z}\n",
    "$$\n",
    "where $A_{ij}\\in \\mathbb{R}$, $b_i\\in \\mathbb{R}$, $ c_j \\in \\mathbb{Z} $. ILP problem is known to be NP-Hard. In case the objective function is a quadratic polynomial, then the model is named as *integer quadratic programming* (IQP).\n",
    "\n",
    "Note that using the penalty method and the method for transforming integer variables into binary, any ILP or IQP can be converted into an equivalent QUBO.\n",
    "***"
   ]
  },
  {
   "cell_type": "markdown",
   "id": "measured-money",
   "metadata": {},
   "source": [
    "### References\n",
    "***\n",
    "1. Wikipedia contributors. (2021). *Penalty method.* Wikipedia, The Free Encyclopedia. [Link](https://en.wikipedia.org/w/index.php?title=Penalty_method&oldid=1020411673)\n",
    "2. Fred Glover, Gary Kochenberger, Yu Du. (2019). *Quantum Bridge Analytics I: A Tutorial on Formulating and Using QUBO Models.* [[arXiv Preprint]](https://arxiv.org/abs/1811.11538)\n",
    "3. Ozlem Salehi, Adam Glos, Jaroslaw Adam Miszczak. (2021). *Unconstrained Binary Models of the Travelling Salesman Problem Variants for Quantum Optimization.* [[arXiv Preprint]](https://arxiv.org/abs/2106.09056)\n",
    "4. Sahar Karimi, Pooya Ronagh. (2019). *Practical Integer-to-Binary Mapping for Quantum Annealers*. Quantum Information Processing, Vol. 18, No. 4, 94. [[arXiv Preprint]](https://arxiv.org/abs/1706.01945)"
   ]
  }
 ],
 "metadata": {
  "kernelspec": {
   "display_name": "Python 3",
   "language": "python",
   "name": "python3"
  },
  "language_info": {
   "codemirror_mode": {
    "name": "ipython",
    "version": 3
   },
   "file_extension": ".py",
   "mimetype": "text/x-python",
   "name": "python",
   "nbconvert_exporter": "python",
   "pygments_lexer": "ipython3",
   "version": "3.7.3"
  },
  "latex_envs": {
   "LaTeX_envs_menu_present": true,
   "autoclose": true,
   "autocomplete": true,
   "bibliofile": "biblio.bib",
   "cite_by": "apalike",
   "current_citInitial": 1,
   "eqLabelWithNumbers": true,
   "eqNumInitial": 1,
   "hotkeys": {
    "equation": "Ctrl-E",
    "itemize": "Ctrl-I"
   },
   "labels_anchors": false,
   "latex_user_defs": false,
   "report_style_numbering": false,
   "user_envs_cfg": false
  },
  "toc": {
   "base_numbering": 1,
   "nav_menu": {},
   "number_sections": true,
   "sideBar": true,
   "skip_h1_title": false,
   "title_cell": "Table of Contents",
   "title_sidebar": "Contents",
   "toc_cell": false,
   "toc_position": {},
   "toc_section_display": true,
   "toc_window_display": false
  }
 },
 "nbformat": 4,
 "nbformat_minor": 5
}
