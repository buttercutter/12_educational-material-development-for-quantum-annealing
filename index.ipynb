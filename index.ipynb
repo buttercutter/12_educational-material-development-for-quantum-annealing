{
 "cells": [
  {
   "cell_type": "markdown",
   "metadata": {},
   "source": [
    " "
   ]
  },
  {
   "cell_type": "markdown",
   "metadata": {},
   "source": [
    "<table width = \"100%\">\n",
    "  <tr style=\"background-color:white;\">\n",
    "    <!-- QWorld Logo -->\n",
    "    <td style=\"text-align:left; padding:0px; width:200px;\"> \n",
    "        <img src=\"images/QWorld.png\"> </td>\n",
    "    <!-- Padding -->\n",
    "    <td width=\"*\">&nbsp;&nbsp;&nbsp;&nbsp;&emsp;&emsp;&emsp;&nbsp;&nbsp;</td>\n",
    "    <td style=\"padding:0px;width:250px;\"></td>\n",
    "    <!-- Social Media Links -->\n",
    "    <td> <a href=\"https://qworld.net\" target=\"_blank\">\n",
    "        <img align=\"right\" src=\"images/Website.png\" style=\"width:50px;\" > </a></td>\n",
    "    <td> <a href=\"https://discord.gg/akCvr7U87g\" target=\"_blank\">\n",
    "        <img align=\"right\" src=\"images/Discord.png\" style=\"width:50px;\"> </a></td>\n",
    "    <td> <a href=\"https://twitter.com/QWorld19\" target=\"_blank\">\n",
    "        <img align=\"right\" src=\"images/Twitter.png\" width=50 > </a></td>\n",
    "    <td> <a href=\"https://www.youtube.com/qworld19\" target=\"_blank\">\n",
    "        <img align=\"right\" src=\"images/YouTube.png\" width=50 > </a></td>\n",
    "    <td> <a href=\"https://www.facebook.com/qworld19/\" target=\"_blank\">\n",
    "        <img align=\"right\" src=\"images/Facebook.png\" width=50 > </a></td>\n",
    "    <td> <a href=\"https://www.linkedin.com/company/qworld19/\" target=\"_blank\">\n",
    "        <img align=\"right\" src=\"images/LinkedIn.png\" width=50 > </a></td>\n",
    "  </tr> \n",
    " </table>\n",
    " \n",
    "<hr>"
   ]
  },
  {
   "cell_type": "markdown",
   "metadata": {},
   "source": [
    "This project was developed during [QIntern 2021](https://qworld.net/qintern-2021/) organized by [QWorld](https://qworld.net/)."
   ]
  },
  {
   "cell_type": "markdown",
   "metadata": {},
   "source": [
    "**Mentor**: [Özlem Salehi](https://gitlab.com/ozlemsalehi) \n",
    "\n",
    "**Team Members**: \n",
    "[Akash Narayanan B](https://gitlab.com/AkashNarayanan) &nbsp;|&nbsp;\n",
    "[Manan Sood](https://gitlab.com/Manan-Sood) &nbsp;|&nbsp;\n",
    "[Paul Joseph Robin](https://gitlab.com/pjr1363) &nbsp;|&nbsp;\n",
    "[Sabah Ud Din Ahmad](https://gitlab.com/sabahuddin.ahmad) &nbsp;|&nbsp;\n",
    "[Sourabh Nutakki](https://gitlab.com/Sourabh499)\n",
    "\n",
    "---"
   ]
  },
  {
   "cell_type": "markdown",
   "metadata": {},
   "source": [
    "<h1 align=\"left\" style=\"color: #fbb32a;\"> Index </h1>"
   ]
  },
  {
   "cell_type": "markdown",
   "metadata": {},
   "source": [
    "### Installation\n",
    "\n",
    "[Ocean SDK Installation](notebooks/Ocean_SDK_Installation.ipynb) \n",
    "\n",
    "### Introduction\n",
    "\n",
    "[Combinatorial Optimization Problems](notebooks/Combinatorial_Optimization_Problems.ipynb)\n",
    "\n",
    "### QUBO Formulation\n",
    "\n",
    "[Mathematical Definition](notebooks/QUBO_Mathematical_Definition.ipynb) &nbsp;|&nbsp;\n",
    "[Max-Cut Problem](notebooks/QUBO_Examples_MaximumCut.ipynb) &nbsp;|&nbsp;\n",
    "[Penalty Method](notebooks/QUBO_PenaltyMethod.ipynb) &nbsp;|&nbsp;\n",
    "[Travelling Salesman Problem](notebooks/QUBO_Examples_TSP.ipynb) &nbsp;|&nbsp;\n",
    "[Graph Coloring](notebooks/QUBO_Examples_GraphColoring.ipynb) &nbsp;|&nbsp;\n",
    "\n",
    "[Linear Programming](index.ipynb) &nbsp;|&nbsp; <!-- To be added-->\n",
    "[Higher Order Models](notebooks/Higher_Order_Model_&_Quadratization.ipynb)\n",
    "\n",
    "### Ising Formulation\n",
    "\n",
    "[Ising Model](notebooks/Ising_Model.ipynb) &nbsp;|&nbsp;\n",
    "[Ising to QUBO Conversion](notebooks/Ising_Model_2.ipynb)\n",
    "\n",
    "### Quantum Annealing with D-Wave\n",
    "\n",
    "[Binary Quadratic Model](notebooks/Binary_Quadratic_Model.ipynb) &nbsp;|&nbsp;\n",
    "[Simulated Annealing](notebooks/Simulated_Annealing.ipynb) &nbsp;|&nbsp;\n",
    "[Quantum Annealing](index.ipynb) <!-- To be added-->\n",
    "\n",
    "### Other Libraries\n",
    "\n",
    "[Qiskit Optimization Module](index.ipynb) &nbsp;|&nbsp; <!-- To be added-->\n",
    "[PyQubo](index.ipynb) <!-- To be added-->\n",
    "\n",
    "---"
   ]
  }
 ],
 "metadata": {
  "kernelspec": {
   "display_name": "Python 3",
   "language": "python",
   "name": "python3"
  },
  "language_info": {
   "codemirror_mode": {
    "name": "ipython",
    "version": 3
   },
   "file_extension": ".py",
   "mimetype": "text/x-python",
   "name": "python",
   "nbconvert_exporter": "python",
   "pygments_lexer": "ipython3",
   "version": "3.8.5"
  },
  "latex_envs": {
   "LaTeX_envs_menu_present": true,
   "autoclose": true,
   "autocomplete": true,
   "bibliofile": "biblio.bib",
   "cite_by": "apalike",
   "current_citInitial": 1,
   "eqLabelWithNumbers": true,
   "eqNumInitial": 1,
   "hotkeys": {
    "equation": "Ctrl-E",
    "itemize": "Ctrl-I"
   },
   "labels_anchors": false,
   "latex_user_defs": false,
   "report_style_numbering": false,
   "user_envs_cfg": false
  },
  "toc": {
   "base_numbering": 1,
   "nav_menu": {},
   "number_sections": true,
   "sideBar": true,
   "skip_h1_title": false,
   "title_cell": "Table of Contents",
   "title_sidebar": "Contents",
   "toc_cell": false,
   "toc_position": {},
   "toc_section_display": true,
   "toc_window_display": false
  }
 },
 "nbformat": 4,
 "nbformat_minor": 4
}
